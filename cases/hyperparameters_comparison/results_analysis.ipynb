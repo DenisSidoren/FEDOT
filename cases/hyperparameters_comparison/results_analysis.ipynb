{
 "cells": [
  {
   "cell_type": "code",
   "execution_count": 1,
   "metadata": {
    "pycharm": {
     "is_executing": true,
     "name": "#%%\n"
    }
   },
   "outputs": [],
   "source": [
    "import pandas as pd\n",
    "import numpy as np\n",
    "from matplotlib import pyplot as plt\n",
    "import seaborn as sns\n",
    "\n",
    "import ast\n",
    "\n",
    "from warnings import filterwarnings\n",
    "filterwarnings('ignore')"
   ]
  },
  {
   "cell_type": "code",
   "execution_count": null,
   "outputs": [],
   "source": [
    "import plotly.express as px"
   ],
   "metadata": {
    "collapsed": false,
    "pycharm": {
     "name": "#%%\n"
    }
   }
  },
  {
   "cell_type": "code",
   "execution_count": null,
   "outputs": [],
   "source": [
    "overview = pd.read_csv('data_for_comparison/overview.csv').rename(columns={'name': 'dataset'})"
   ],
   "metadata": {
    "collapsed": false,
    "pycharm": {
     "name": "#%%\n"
    }
   }
  },
  {
   "cell_type": "code",
   "execution_count": null,
   "outputs": [],
   "source": [
    "metrics = pd.DataFrame({'metrics': ['mse', 'mae', 'r2', 'acc', 'auc', 'f1'], 'ascending_metrics': [0, 0, 1, 1, 1, 1]})"
   ],
   "metadata": {
    "collapsed": false,
    "pycharm": {
     "name": "#%%\n"
    }
   }
  },
  {
   "cell_type": "code",
   "execution_count": null,
   "outputs": [],
   "source": [
    "fo_map = {\n",
    "    'ridge': 'ridge', 'logit': 'logit',\n",
    "    'knn': 'knn', 'knnreg': 'knn',\n",
    "    'dt': 'dt', 'dtreg': 'dt',\n",
    "    'rf': 'rf', 'rfr': 'rf',\n",
    "    'lgbm': 'lgbm', 'lgbmreg': 'lgbm'\n",
    "}"
   ],
   "metadata": {
    "collapsed": false,
    "pycharm": {
     "name": "#%%\n"
    }
   }
  },
  {
   "cell_type": "code",
   "execution_count": null,
   "outputs": [],
   "source": [
    "data_safe = pd.read_csv('long_comparison_.csv', sep='#')\n",
    "data_safe['params'] = ('{' + data_safe['pipeline'].str.split('{', expand=True)[1].str.split('}', expand=True)[0] + '}').fillna('{}').apply(lambda x: ast.literal_eval(x))\n",
    "data_safe = pd.concat([data_safe, data_safe['params'].apply(pd.Series)], axis=1).merge(overview).merge(metrics)\n",
    "data_safe.drop(columns=['pipeline', 'params'], inplace=True)\n",
    "data_safe['fitted_operation'] = data_safe['fitted_operation'].map(fo_map)\n",
    "\n",
    "data_safe['min_samples_leaf'].loc[data_safe['fitted_operation'] == 'lgbm'] /= data_safe[data_safe['fitted_operation'] == 'lgbm']['rows'] * 0.8\n",
    "\n",
    "data_safe['is_default'] = np.where((data_safe['fitted_operation'] == 'ridge') & (data_safe['alpha'].isna()), 1, 0)\n",
    "data_safe['is_default'] = np.where((data_safe['fitted_operation'] == 'logit') & (data_safe['C'].isna()), 1, data_safe['is_default'])\n",
    "data_safe['is_default'] = np.where((data_safe['fitted_operation'] == 'knn') & (data_safe['weights'].isna()), 1, data_safe['is_default'])\n",
    "data_safe['is_default'] = np.where((data_safe['fitted_operation'] == 'dt') & (data_safe['min_samples_leaf'].isna()), 1, data_safe['is_default'])\n",
    "data_safe['is_default'] = np.where((data_safe['fitted_operation'] == 'rf') & (data_safe['min_samples_leaf'].isna()), 1, data_safe['is_default'])\n",
    "data_safe['is_default'] = np.where((data_safe['fitted_operation'] == 'lgbm') & (data_safe['learning_rate'] == 0.03), 1, data_safe['is_default'])\n",
    "\n",
    "data_safe"
   ],
   "metadata": {
    "collapsed": false,
    "pycharm": {
     "name": "#%%\n"
    }
   }
  },
  {
   "cell_type": "code",
   "execution_count": null,
   "outputs": [],
   "source": [
    "data_safe[(data_safe['dataset'] == 'brazilian-houses') & (data_safe['fitted_operation'] == 'dt') & (data_safe['metrics'] == 'mse')]"
   ],
   "metadata": {
    "collapsed": false,
    "pycharm": {
     "name": "#%%\n"
    }
   }
  },
  {
   "cell_type": "code",
   "execution_count": null,
   "outputs": [],
   "source": [
    "is_default = data_safe[data_safe['approach'] != 'default'].groupby(['dataset', 'fitted_operation', 'metrics']).agg({'is_default': 'mean'}).reset_index().merge(overview)\n",
    "is_default['metrics'] = is_default['fitted_operation'] + '_' + is_default['metrics']\n",
    "fig = px.scatter(is_default, x='rows', y='is_default', color='metrics', text='dataset')\n",
    "fig.show()"
   ],
   "metadata": {
    "collapsed": false,
    "pycharm": {
     "name": "#%%\n"
    }
   }
  },
  {
   "cell_type": "code",
   "execution_count": null,
   "outputs": [],
   "source": [
    "data_safe[(data_safe['is_default'] == 1) & (data_safe['fitted_operation'] == 'rf') & (data_safe['approach'] != 'default')].groupby('metrics').count()"
   ],
   "metadata": {
    "collapsed": false,
    "pycharm": {
     "name": "#%%\n"
    }
   }
  },
  {
   "cell_type": "code",
   "execution_count": null,
   "outputs": [],
   "source": [
    "data = data_safe[data_safe['is_default'] == 0]\n",
    "data[['max_score_train', 'max_score_test']] = data.groupby(['dataset', 'metrics', 'fitted_operation']).transform(max)[['score_train', 'score_test']]\n",
    "data[['min_score_train', 'min_score_test']] = data.groupby(['dataset', 'metrics', 'fitted_operation']).transform(min)[['score_train', 'score_test']]\n",
    "data_best_train = data[np.where(np.isin(data['metrics'], ['mse', 'mae']),\n",
    "                                data['score_train'] == data['min_score_train'], \n",
    "                                data['score_train'] == data['max_score_train'])]\n",
    "data_best_test = data[np.where(np.isin(data['metrics'], ['mse', 'mae']),\n",
    "                               data['score_test'] == data['min_score_test'], \n",
    "                               data['score_test'] == data['max_score_test'])]"
   ],
   "metadata": {
    "collapsed": false,
    "pycharm": {
     "name": "#%%\n"
    }
   }
  },
  {
   "cell_type": "code",
   "execution_count": null,
   "outputs": [],
   "source": [
    "params = {\n",
    "    'ridge': {\n",
    "        'alpha': ('loguniform', [1e-9, 1e4])\n",
    "    },\n",
    "    'logit': {\n",
    "        'C': ('loguniform', [1e-9, 1e4])\n",
    "    },\n",
    "    'knn': {\n",
    "        'n_neighbors': ('randint', [1, 100]),\n",
    "        'metric': ('choice', [['euclidean', 'manhattan', 'chebyshev', 'cosine']]),\n",
    "        'weights': ('choice', [['uniform', 'distance']])\n",
    "    },\n",
    "    'dt': {\n",
    "        'max_depth': ('randint', [2, 15]),\n",
    "        'min_samples_leaf': ('uniform', [1e-4, 0.5])\n",
    "    },\n",
    "    'rf': {\n",
    "        'n_estimators': ('randint', [10, 1000]),\n",
    "        'max_features': ('uniform', [0.2, 1]),\n",
    "        'bootstrap': ('choice', [[True, False]]),\n",
    "        'max_depth': ('randint', [2, 15]),\n",
    "        'min_samples_leaf': ('uniform', [1e-4, 0.5])\n",
    "    },\n",
    "    'lgbm': {\n",
    "        'n_estimators': ('randint', [10, 1000]),\n",
    "        'learning_rate': ('loguniform', [1e-4, 1e1]),\n",
    "        'max_depth': ('randint', [2, 15]),\n",
    "        'min_samples_leaf': ('uniform', [1e-4, 0.5]),\n",
    "        'colsample_bytree': ('uniform', [0.2, 1]),\n",
    "        'subsample': ('uniform', [0.2, 1]),\n",
    "        'max_bin': ('randint', [3, 511]),\n",
    "        'lambda_l1': ('loguniform', [1e-5, 1e2]),\n",
    "        'lambda_l2': ('loguniform', [1e-5, 1e2])\n",
    "    }\n",
    "}"
   ],
   "metadata": {
    "collapsed": false,
    "pycharm": {
     "name": "#%%\n"
    }
   }
  },
  {
   "cell_type": "code",
   "execution_count": 169,
   "metadata": {},
   "outputs": [
    {
     "data": {
      "text/html": [
       "<div>\n",
       "<style scoped>\n",
       "    .dataframe tbody tr th:only-of-type {\n",
       "        vertical-align: middle;\n",
       "    }\n",
       "\n",
       "    .dataframe tbody tr th {\n",
       "        vertical-align: top;\n",
       "    }\n",
       "\n",
       "    .dataframe thead th {\n",
       "        text-align: right;\n",
       "    }\n",
       "</style>\n",
       "<table border=\"1\" class=\"dataframe\">\n",
       "  <thead>\n",
       "    <tr style=\"text-align: right;\">\n",
       "      <th></th>\n",
       "      <th>dataset</th>\n",
       "      <th>metrics</th>\n",
       "      <th>fitted_operation</th>\n",
       "      <th>approach</th>\n",
       "      <th>experiment_number</th>\n",
       "      <th>score_train</th>\n",
       "      <th>score_test</th>\n",
       "      <th>time_spent</th>\n",
       "      <th>alpha</th>\n",
       "      <th>n_jobs</th>\n",
       "      <th>...</th>\n",
       "      <th>weights</th>\n",
       "      <th>C</th>\n",
       "      <th>rows</th>\n",
       "      <th>num_features</th>\n",
       "      <th>cat_features</th>\n",
       "      <th>num_classes</th>\n",
       "      <th>task</th>\n",
       "      <th>source</th>\n",
       "      <th>ascending_metrics</th>\n",
       "      <th>is_default</th>\n",
       "    </tr>\n",
       "  </thead>\n",
       "  <tbody>\n",
       "    <tr>\n",
       "      <th>548</th>\n",
       "      <td>brazilian-houses</td>\n",
       "      <td>mse</td>\n",
       "      <td>dt</td>\n",
       "      <td>default</td>\n",
       "      <td>0</td>\n",
       "      <td>0.000000e+00</td>\n",
       "      <td>109165.769986</td>\n",
       "      <td>0.852361</td>\n",
       "      <td>NaN</td>\n",
       "      <td>NaN</td>\n",
       "      <td>...</td>\n",
       "      <td>NaN</td>\n",
       "      <td>NaN</td>\n",
       "      <td>10692</td>\n",
       "      <td>9</td>\n",
       "      <td>3</td>\n",
       "      <td>-1</td>\n",
       "      <td>regression</td>\n",
       "      <td>https://www.openml.org/d/42688</td>\n",
       "      <td>0</td>\n",
       "      <td>1</td>\n",
       "    </tr>\n",
       "    <tr>\n",
       "      <th>555</th>\n",
       "      <td>brazilian-houses</td>\n",
       "      <td>mse</td>\n",
       "      <td>dt</td>\n",
       "      <td>random</td>\n",
       "      <td>1</td>\n",
       "      <td>9.893093e+06</td>\n",
       "      <td>231107.108929</td>\n",
       "      <td>161.946350</td>\n",
       "      <td>NaN</td>\n",
       "      <td>NaN</td>\n",
       "      <td>...</td>\n",
       "      <td>NaN</td>\n",
       "      <td>NaN</td>\n",
       "      <td>10692</td>\n",
       "      <td>9</td>\n",
       "      <td>3</td>\n",
       "      <td>-1</td>\n",
       "      <td>regression</td>\n",
       "      <td>https://www.openml.org/d/42688</td>\n",
       "      <td>0</td>\n",
       "      <td>1</td>\n",
       "    </tr>\n",
       "    <tr>\n",
       "      <th>561</th>\n",
       "      <td>brazilian-houses</td>\n",
       "      <td>mse</td>\n",
       "      <td>dt</td>\n",
       "      <td>tpe</td>\n",
       "      <td>0</td>\n",
       "      <td>9.861649e+06</td>\n",
       "      <td>220971.877045</td>\n",
       "      <td>246.608281</td>\n",
       "      <td>NaN</td>\n",
       "      <td>NaN</td>\n",
       "      <td>...</td>\n",
       "      <td>NaN</td>\n",
       "      <td>NaN</td>\n",
       "      <td>10692</td>\n",
       "      <td>9</td>\n",
       "      <td>3</td>\n",
       "      <td>-1</td>\n",
       "      <td>regression</td>\n",
       "      <td>https://www.openml.org/d/42688</td>\n",
       "      <td>0</td>\n",
       "      <td>1</td>\n",
       "    </tr>\n",
       "    <tr>\n",
       "      <th>564</th>\n",
       "      <td>brazilian-houses</td>\n",
       "      <td>mse</td>\n",
       "      <td>dt</td>\n",
       "      <td>tpe</td>\n",
       "      <td>1</td>\n",
       "      <td>9.892979e+06</td>\n",
       "      <td>258908.743338</td>\n",
       "      <td>126.385125</td>\n",
       "      <td>NaN</td>\n",
       "      <td>NaN</td>\n",
       "      <td>...</td>\n",
       "      <td>NaN</td>\n",
       "      <td>NaN</td>\n",
       "      <td>10692</td>\n",
       "      <td>9</td>\n",
       "      <td>3</td>\n",
       "      <td>-1</td>\n",
       "      <td>regression</td>\n",
       "      <td>https://www.openml.org/d/42688</td>\n",
       "      <td>0</td>\n",
       "      <td>1</td>\n",
       "    </tr>\n",
       "    <tr>\n",
       "      <th>565</th>\n",
       "      <td>brazilian-houses</td>\n",
       "      <td>mse</td>\n",
       "      <td>dt</td>\n",
       "      <td>default</td>\n",
       "      <td>1</td>\n",
       "      <td>0.000000e+00</td>\n",
       "      <td>109165.769986</td>\n",
       "      <td>0.717097</td>\n",
       "      <td>NaN</td>\n",
       "      <td>NaN</td>\n",
       "      <td>...</td>\n",
       "      <td>NaN</td>\n",
       "      <td>NaN</td>\n",
       "      <td>10692</td>\n",
       "      <td>9</td>\n",
       "      <td>3</td>\n",
       "      <td>-1</td>\n",
       "      <td>regression</td>\n",
       "      <td>https://www.openml.org/d/42688</td>\n",
       "      <td>0</td>\n",
       "      <td>1</td>\n",
       "    </tr>\n",
       "    <tr>\n",
       "      <th>574</th>\n",
       "      <td>brazilian-houses</td>\n",
       "      <td>mse</td>\n",
       "      <td>dt</td>\n",
       "      <td>random</td>\n",
       "      <td>0</td>\n",
       "      <td>9.893093e+06</td>\n",
       "      <td>231107.108929</td>\n",
       "      <td>150.215249</td>\n",
       "      <td>NaN</td>\n",
       "      <td>NaN</td>\n",
       "      <td>...</td>\n",
       "      <td>NaN</td>\n",
       "      <td>NaN</td>\n",
       "      <td>10692</td>\n",
       "      <td>9</td>\n",
       "      <td>3</td>\n",
       "      <td>-1</td>\n",
       "      <td>regression</td>\n",
       "      <td>https://www.openml.org/d/42688</td>\n",
       "      <td>0</td>\n",
       "      <td>1</td>\n",
       "    </tr>\n",
       "  </tbody>\n",
       "</table>\n",
       "<p>6 rows × 37 columns</p>\n",
       "</div>"
      ],
      "text/plain": [
       "              dataset metrics fitted_operation approach  experiment_number  \\\n",
       "548  brazilian-houses     mse               dt  default                  0   \n",
       "555  brazilian-houses     mse               dt   random                  1   \n",
       "561  brazilian-houses     mse               dt      tpe                  0   \n",
       "564  brazilian-houses     mse               dt      tpe                  1   \n",
       "565  brazilian-houses     mse               dt  default                  1   \n",
       "574  brazilian-houses     mse               dt   random                  0   \n",
       "\n",
       "      score_train     score_test  time_spent  alpha  n_jobs  ...  weights   C  \\\n",
       "548  0.000000e+00  109165.769986    0.852361    NaN     NaN  ...      NaN NaN   \n",
       "555  9.893093e+06  231107.108929  161.946350    NaN     NaN  ...      NaN NaN   \n",
       "561  9.861649e+06  220971.877045  246.608281    NaN     NaN  ...      NaN NaN   \n",
       "564  9.892979e+06  258908.743338  126.385125    NaN     NaN  ...      NaN NaN   \n",
       "565  0.000000e+00  109165.769986    0.717097    NaN     NaN  ...      NaN NaN   \n",
       "574  9.893093e+06  231107.108929  150.215249    NaN     NaN  ...      NaN NaN   \n",
       "\n",
       "      rows  num_features  cat_features  num_classes        task  \\\n",
       "548  10692             9             3           -1  regression   \n",
       "555  10692             9             3           -1  regression   \n",
       "561  10692             9             3           -1  regression   \n",
       "564  10692             9             3           -1  regression   \n",
       "565  10692             9             3           -1  regression   \n",
       "574  10692             9             3           -1  regression   \n",
       "\n",
       "                             source  ascending_metrics  is_default  \n",
       "548  https://www.openml.org/d/42688                  0           1  \n",
       "555  https://www.openml.org/d/42688                  0           1  \n",
       "561  https://www.openml.org/d/42688                  0           1  \n",
       "564  https://www.openml.org/d/42688                  0           1  \n",
       "565  https://www.openml.org/d/42688                  0           1  \n",
       "574  https://www.openml.org/d/42688                  0           1  \n",
       "\n",
       "[6 rows x 37 columns]"
      ]
     },
     "execution_count": 169,
     "metadata": {},
     "output_type": "execute_result"
    }
   ],
   "source": [
    "data_safe[(data_safe['dataset'] == 'brazilian-houses') & (data_safe['fitted_operation'] == 'dt') & (data_safe['metrics'] == 'mse')]"
   ]
  },
  {
   "cell_type": "code",
   "execution_count": 167,
   "metadata": {},
   "outputs": [
    {
     "data": {
      "application/vnd.plotly.v1+json": {
       "config": {
        "plotlyServerURL": "https://plot.ly"
       },
       "data": [
        {
         "hovertemplate": "metrics=dt_mae<br>rows=%{x}<br>is_default=%{y}<br>dataset=%{text}<extra></extra>",
         "legendgroup": "dt_mae",
         "marker": {
          "color": "#636efa",
          "symbol": "circle"
         },
         "mode": "markers+text",
         "name": "dt_mae",
         "orientation": "v",
         "showlegend": true,
         "text": [
          "2dplanes",
          "30mlday",
          "brazilian-houses",
          "delays-zurich-transport",
          "diamonds",
          "fried",
          "house-sales",
          "insurance",
          "miami2016",
          "sarcos",
          "sulfur",
          "superconduct"
         ],
         "type": "scatter",
         "x": [
          40768,
          300000,
          10692,
          27327,
          53940,
          40768,
          21613,
          1338,
          13932,
          48933,
          10081,
          21263
         ],
         "xaxis": "x",
         "y": [
          0,
          0,
          1,
          0,
          1,
          0.5,
          0,
          0,
          0.75,
          1,
          0,
          1
         ],
         "yaxis": "y"
        },
        {
         "hovertemplate": "metrics=dt_mse<br>rows=%{x}<br>is_default=%{y}<br>dataset=%{text}<extra></extra>",
         "legendgroup": "dt_mse",
         "marker": {
          "color": "#EF553B",
          "symbol": "circle"
         },
         "mode": "markers+text",
         "name": "dt_mse",
         "orientation": "v",
         "showlegend": true,
         "text": [
          "2dplanes",
          "30mlday",
          "brazilian-houses",
          "diamonds",
          "fried",
          "house-sales",
          "insurance",
          "miami2016",
          "sulfur",
          "superconduct"
         ],
         "type": "scatter",
         "x": [
          40768,
          300000,
          10692,
          53940,
          40768,
          21613,
          1338,
          13932,
          10081,
          21263
         ],
         "xaxis": "x",
         "y": [
          0,
          0,
          1,
          0,
          0.25,
          0,
          0,
          0,
          0.5,
          0
         ],
         "yaxis": "y"
        },
        {
         "hovertemplate": "metrics=dt_r2<br>rows=%{x}<br>is_default=%{y}<br>dataset=%{text}<extra></extra>",
         "legendgroup": "dt_r2",
         "marker": {
          "color": "#00cc96",
          "symbol": "circle"
         },
         "mode": "markers+text",
         "name": "dt_r2",
         "orientation": "v",
         "showlegend": true,
         "text": [
          "2dplanes",
          "brazilian-houses",
          "delays-zurich-transport",
          "diamonds",
          "fried",
          "house-sales",
          "insurance",
          "miami2016",
          "sarcos",
          "sulfur",
          "superconduct"
         ],
         "type": "scatter",
         "x": [
          40768,
          10692,
          27327,
          53940,
          40768,
          21613,
          1338,
          13932,
          48933,
          10081,
          21263
         ],
         "xaxis": "x",
         "y": [
          0,
          0.75,
          0,
          0,
          0.5,
          0,
          0,
          0,
          0,
          0,
          0.5
         ],
         "yaxis": "y"
        },
        {
         "hovertemplate": "metrics=knn_mae<br>rows=%{x}<br>is_default=%{y}<br>dataset=%{text}<extra></extra>",
         "legendgroup": "knn_mae",
         "marker": {
          "color": "#ab63fa",
          "symbol": "circle"
         },
         "mode": "markers+text",
         "name": "knn_mae",
         "orientation": "v",
         "showlegend": true,
         "text": [
          "2dplanes",
          "30mlday",
          "brazilian-houses",
          "delays-zurich-transport",
          "diamonds",
          "fried",
          "house-sales",
          "insurance",
          "miami2016",
          "sarcos",
          "sulfur",
          "superconduct"
         ],
         "type": "scatter",
         "x": [
          40768,
          300000,
          10692,
          27327,
          53940,
          40768,
          21613,
          1338,
          13932,
          48933,
          10081,
          21263
         ],
         "xaxis": "x",
         "y": [
          0,
          0,
          0,
          0,
          0,
          0,
          0,
          0,
          0,
          0,
          0,
          0
         ],
         "yaxis": "y"
        },
        {
         "hovertemplate": "metrics=knn_mse<br>rows=%{x}<br>is_default=%{y}<br>dataset=%{text}<extra></extra>",
         "legendgroup": "knn_mse",
         "marker": {
          "color": "#FFA15A",
          "symbol": "circle"
         },
         "mode": "markers+text",
         "name": "knn_mse",
         "orientation": "v",
         "showlegend": true,
         "text": [
          "2dplanes",
          "30mlday",
          "brazilian-houses",
          "delays-zurich-transport",
          "diamonds",
          "fried",
          "house-sales",
          "insurance",
          "miami2016",
          "sarcos",
          "sulfur",
          "superconduct"
         ],
         "type": "scatter",
         "x": [
          40768,
          300000,
          10692,
          27327,
          53940,
          40768,
          21613,
          1338,
          13932,
          48933,
          10081,
          21263
         ],
         "xaxis": "x",
         "y": [
          0,
          0,
          0,
          0,
          0,
          0,
          0,
          0,
          0,
          0.5,
          0,
          0
         ],
         "yaxis": "y"
        },
        {
         "hovertemplate": "metrics=knn_r2<br>rows=%{x}<br>is_default=%{y}<br>dataset=%{text}<extra></extra>",
         "legendgroup": "knn_r2",
         "marker": {
          "color": "#19d3f3",
          "symbol": "circle"
         },
         "mode": "markers+text",
         "name": "knn_r2",
         "orientation": "v",
         "showlegend": true,
         "text": [
          "2dplanes",
          "black-friday",
          "brazilian-houses",
          "delays-zurich-transport",
          "diamonds",
          "fried",
          "house-sales",
          "insurance",
          "miami2016",
          "sarcos",
          "sulfur",
          "superconduct"
         ],
         "type": "scatter",
         "x": [
          40768,
          166821,
          10692,
          27327,
          53940,
          40768,
          21613,
          1338,
          13932,
          48933,
          10081,
          21263
         ],
         "xaxis": "x",
         "y": [
          0,
          0.5,
          0,
          0,
          0,
          0,
          0,
          0,
          0,
          0,
          0,
          0
         ],
         "yaxis": "y"
        },
        {
         "hovertemplate": "metrics=lgbm_mae<br>rows=%{x}<br>is_default=%{y}<br>dataset=%{text}<extra></extra>",
         "legendgroup": "lgbm_mae",
         "marker": {
          "color": "#FF6692",
          "symbol": "circle"
         },
         "mode": "markers+text",
         "name": "lgbm_mae",
         "orientation": "v",
         "showlegend": true,
         "text": [
          "2dplanes",
          "30mlday",
          "brazilian-houses",
          "delays-zurich-transport",
          "diamonds",
          "fried",
          "house-sales",
          "insurance",
          "miami2016",
          "sarcos",
          "sulfur",
          "superconduct"
         ],
         "type": "scatter",
         "x": [
          40768,
          300000,
          10692,
          27327,
          53940,
          40768,
          21613,
          1338,
          13932,
          48933,
          10081,
          21263
         ],
         "xaxis": "x",
         "y": [
          0,
          0,
          0.75,
          0,
          0,
          0.25,
          0,
          0,
          0.5,
          0.5,
          0.5,
          0
         ],
         "yaxis": "y"
        },
        {
         "hovertemplate": "metrics=lgbm_mse<br>rows=%{x}<br>is_default=%{y}<br>dataset=%{text}<extra></extra>",
         "legendgroup": "lgbm_mse",
         "marker": {
          "color": "#B6E880",
          "symbol": "circle"
         },
         "mode": "markers+text",
         "name": "lgbm_mse",
         "orientation": "v",
         "showlegend": true,
         "text": [
          "2dplanes",
          "30mlday",
          "brazilian-houses",
          "diamonds",
          "fried",
          "house-sales",
          "insurance",
          "miami2016",
          "sulfur",
          "superconduct"
         ],
         "type": "scatter",
         "x": [
          40768,
          300000,
          10692,
          53940,
          40768,
          21613,
          1338,
          13932,
          10081,
          21263
         ],
         "xaxis": "x",
         "y": [
          0,
          0,
          0,
          0,
          0,
          0,
          0.5,
          0.25,
          0.5,
          0
         ],
         "yaxis": "y"
        },
        {
         "hovertemplate": "metrics=lgbm_r2<br>rows=%{x}<br>is_default=%{y}<br>dataset=%{text}<extra></extra>",
         "legendgroup": "lgbm_r2",
         "marker": {
          "color": "#FF97FF",
          "symbol": "circle"
         },
         "mode": "markers+text",
         "name": "lgbm_r2",
         "orientation": "v",
         "showlegend": true,
         "text": [
          "2dplanes",
          "black-friday",
          "brazilian-houses",
          "delays-zurich-transport",
          "diamonds",
          "fried",
          "house-sales",
          "insurance",
          "miami2016",
          "sarcos",
          "sulfur",
          "superconduct"
         ],
         "type": "scatter",
         "x": [
          40768,
          166821,
          10692,
          27327,
          53940,
          40768,
          21613,
          1338,
          13932,
          48933,
          10081,
          21263
         ],
         "xaxis": "x",
         "y": [
          0,
          0.5,
          0,
          0,
          0,
          0,
          0,
          0.25,
          0,
          0,
          0.5,
          0
         ],
         "yaxis": "y"
        },
        {
         "hovertemplate": "metrics=rf_mae<br>rows=%{x}<br>is_default=%{y}<br>dataset=%{text}<extra></extra>",
         "legendgroup": "rf_mae",
         "marker": {
          "color": "#FECB52",
          "symbol": "circle"
         },
         "mode": "markers+text",
         "name": "rf_mae",
         "orientation": "v",
         "showlegend": true,
         "text": [
          "2dplanes",
          "30mlday",
          "brazilian-houses",
          "delays-zurich-transport",
          "diamonds",
          "fried",
          "house-sales",
          "insurance",
          "miami2016",
          "sarcos",
          "sulfur",
          "superconduct"
         ],
         "type": "scatter",
         "x": [
          40768,
          300000,
          10692,
          27327,
          53940,
          40768,
          21613,
          1338,
          13932,
          48933,
          10081,
          21263
         ],
         "xaxis": "x",
         "y": [
          0,
          0,
          1,
          0.5,
          1,
          1,
          0,
          0,
          1,
          1,
          1,
          1
         ],
         "yaxis": "y"
        },
        {
         "hovertemplate": "metrics=rf_mse<br>rows=%{x}<br>is_default=%{y}<br>dataset=%{text}<extra></extra>",
         "legendgroup": "rf_mse",
         "marker": {
          "color": "#636efa",
          "symbol": "circle"
         },
         "mode": "markers+text",
         "name": "rf_mse",
         "orientation": "v",
         "showlegend": true,
         "text": [
          "2dplanes",
          "30mlday",
          "brazilian-houses",
          "diamonds",
          "fried",
          "house-sales",
          "insurance",
          "miami2016",
          "sulfur",
          "superconduct"
         ],
         "type": "scatter",
         "x": [
          40768,
          300000,
          10692,
          53940,
          40768,
          21613,
          1338,
          13932,
          10081,
          21263
         ],
         "xaxis": "x",
         "y": [
          0.5,
          0,
          0.75,
          0,
          1,
          0,
          0,
          1,
          0.5,
          1
         ],
         "yaxis": "y"
        },
        {
         "hovertemplate": "metrics=rf_r2<br>rows=%{x}<br>is_default=%{y}<br>dataset=%{text}<extra></extra>",
         "legendgroup": "rf_r2",
         "marker": {
          "color": "#EF553B",
          "symbol": "circle"
         },
         "mode": "markers+text",
         "name": "rf_r2",
         "orientation": "v",
         "showlegend": true,
         "text": [
          "2dplanes",
          "brazilian-houses",
          "delays-zurich-transport",
          "diamonds",
          "fried",
          "house-sales",
          "insurance",
          "miami2016",
          "sarcos",
          "sulfur",
          "superconduct"
         ],
         "type": "scatter",
         "x": [
          40768,
          10692,
          27327,
          53940,
          40768,
          21613,
          1338,
          13932,
          48933,
          10081,
          21263
         ],
         "xaxis": "x",
         "y": [
          0,
          1,
          0,
          0,
          1,
          0,
          0,
          0.5,
          1,
          0.5,
          1
         ],
         "yaxis": "y"
        },
        {
         "hovertemplate": "metrics=ridge_mae<br>rows=%{x}<br>is_default=%{y}<br>dataset=%{text}<extra></extra>",
         "legendgroup": "ridge_mae",
         "marker": {
          "color": "#00cc96",
          "symbol": "circle"
         },
         "mode": "markers+text",
         "name": "ridge_mae",
         "orientation": "v",
         "showlegend": true,
         "text": [
          "2dplanes",
          "30mlday",
          "brazilian-houses",
          "delays-zurich-transport",
          "diamonds",
          "fried",
          "house-sales",
          "insurance",
          "miami2016",
          "sarcos",
          "sulfur",
          "superconduct"
         ],
         "type": "scatter",
         "x": [
          40768,
          300000,
          10692,
          27327,
          53940,
          40768,
          21613,
          1338,
          13932,
          48933,
          10081,
          21263
         ],
         "xaxis": "x",
         "y": [
          0,
          0,
          0,
          0,
          0,
          0,
          0,
          0,
          0,
          0,
          0,
          0
         ],
         "yaxis": "y"
        },
        {
         "hovertemplate": "metrics=ridge_mse<br>rows=%{x}<br>is_default=%{y}<br>dataset=%{text}<extra></extra>",
         "legendgroup": "ridge_mse",
         "marker": {
          "color": "#ab63fa",
          "symbol": "circle"
         },
         "mode": "markers+text",
         "name": "ridge_mse",
         "orientation": "v",
         "showlegend": true,
         "text": [
          "2dplanes",
          "30mlday",
          "brazilian-houses",
          "diamonds",
          "fried",
          "house-sales",
          "insurance",
          "miami2016",
          "sulfur",
          "superconduct"
         ],
         "type": "scatter",
         "x": [
          40768,
          300000,
          10692,
          53940,
          40768,
          21613,
          1338,
          13932,
          10081,
          21263
         ],
         "xaxis": "x",
         "y": [
          0,
          0,
          0,
          0,
          0,
          0,
          0,
          0,
          0,
          0
         ],
         "yaxis": "y"
        },
        {
         "hovertemplate": "metrics=ridge_r2<br>rows=%{x}<br>is_default=%{y}<br>dataset=%{text}<extra></extra>",
         "legendgroup": "ridge_r2",
         "marker": {
          "color": "#FFA15A",
          "symbol": "circle"
         },
         "mode": "markers+text",
         "name": "ridge_r2",
         "orientation": "v",
         "showlegend": true,
         "text": [
          "2dplanes",
          "brazilian-houses",
          "delays-zurich-transport",
          "diamonds",
          "fried",
          "house-sales",
          "insurance",
          "miami2016",
          "sarcos",
          "sulfur",
          "superconduct"
         ],
         "type": "scatter",
         "x": [
          40768,
          10692,
          27327,
          53940,
          40768,
          21613,
          1338,
          13932,
          48933,
          10081,
          21263
         ],
         "xaxis": "x",
         "y": [
          0,
          0,
          0,
          0,
          0,
          0,
          0,
          0,
          0,
          0,
          0
         ],
         "yaxis": "y"
        },
        {
         "hovertemplate": "metrics=dt_auc<br>rows=%{x}<br>is_default=%{y}<br>dataset=%{text}<extra></extra>",
         "legendgroup": "dt_auc",
         "marker": {
          "color": "#19d3f3",
          "symbol": "circle"
         },
         "mode": "markers+text",
         "name": "dt_auc",
         "orientation": "v",
         "showlegend": true,
         "text": [
          "adult",
          "ailerons",
          "bank-marketing",
          "electricity",
          "elevators",
          "eye-movements",
          "gas-drift",
          "glass",
          "higgs",
          "houses",
          "letter",
          "magic-telescope",
          "mammography",
          "nomao",
          "nursery"
         ],
         "type": "scatter",
         "x": [
          48842,
          13750,
          45211,
          45312,
          16599,
          10936,
          13910,
          214,
          98050,
          20640,
          20000,
          19020,
          11183,
          34465,
          12960
         ],
         "xaxis": "x",
         "y": [
          0,
          0,
          0,
          0,
          0,
          0,
          0,
          0,
          0,
          0,
          0,
          0,
          0,
          0,
          0
         ],
         "yaxis": "y"
        },
        {
         "hovertemplate": "metrics=dt_f1<br>rows=%{x}<br>is_default=%{y}<br>dataset=%{text}<extra></extra>",
         "legendgroup": "dt_f1",
         "marker": {
          "color": "#FF6692",
          "symbol": "circle"
         },
         "mode": "markers+text",
         "name": "dt_f1",
         "orientation": "v",
         "showlegend": true,
         "text": [
          "adult",
          "ailerons",
          "bank-marketing",
          "credit-card-fraud-detection",
          "electricity",
          "elevators",
          "eye-movements",
          "gas-drift",
          "glass",
          "higgs",
          "houses",
          "letter",
          "magic-telescope",
          "mammography",
          "nomao",
          "nursery"
         ],
         "type": "scatter",
         "x": [
          48842,
          13750,
          45211,
          284807,
          45312,
          16599,
          10936,
          13910,
          214,
          98050,
          20640,
          20000,
          19020,
          11183,
          34465,
          12960
         ],
         "xaxis": "x",
         "y": [
          0,
          0,
          0.5,
          1,
          0.5,
          0,
          0.5,
          0.5,
          0.25,
          0,
          0,
          0.75,
          0,
          0.25,
          0,
          0
         ],
         "yaxis": "y"
        },
        {
         "hovertemplate": "metrics=knn_auc<br>rows=%{x}<br>is_default=%{y}<br>dataset=%{text}<extra></extra>",
         "legendgroup": "knn_auc",
         "marker": {
          "color": "#B6E880",
          "symbol": "circle"
         },
         "mode": "markers+text",
         "name": "knn_auc",
         "orientation": "v",
         "showlegend": true,
         "text": [
          "adult",
          "ailerons",
          "bank-marketing",
          "electricity",
          "elevators",
          "eye-movements",
          "gas-drift",
          "glass",
          "higgs",
          "houses",
          "letter",
          "magic-telescope",
          "mammography",
          "nomao",
          "nursery"
         ],
         "type": "scatter",
         "x": [
          48842,
          13750,
          45211,
          45312,
          16599,
          10936,
          13910,
          214,
          98050,
          20640,
          20000,
          19020,
          11183,
          34465,
          12960
         ],
         "xaxis": "x",
         "y": [
          0,
          0,
          0,
          0,
          0,
          0,
          0,
          0,
          0,
          0,
          0,
          0,
          0,
          0,
          0
         ],
         "yaxis": "y"
        },
        {
         "hovertemplate": "metrics=knn_f1<br>rows=%{x}<br>is_default=%{y}<br>dataset=%{text}<extra></extra>",
         "legendgroup": "knn_f1",
         "marker": {
          "color": "#FF97FF",
          "symbol": "circle"
         },
         "mode": "markers+text",
         "name": "knn_f1",
         "orientation": "v",
         "showlegend": true,
         "text": [
          "adult",
          "ailerons",
          "bank-marketing",
          "credit-card-fraud-detection",
          "electricity",
          "elevators",
          "eye-movements",
          "gas-drift",
          "glass",
          "higgs",
          "houses",
          "letter",
          "magic-telescope",
          "mammography",
          "nomao",
          "nursery"
         ],
         "type": "scatter",
         "x": [
          48842,
          13750,
          45211,
          284807,
          45312,
          16599,
          10936,
          13910,
          214,
          98050,
          20640,
          20000,
          19020,
          11183,
          34465,
          12960
         ],
         "xaxis": "x",
         "y": [
          0,
          0,
          0,
          0,
          0,
          0,
          0,
          0,
          0,
          0,
          0,
          0,
          0,
          0,
          0,
          0
         ],
         "yaxis": "y"
        },
        {
         "hovertemplate": "metrics=lgbm_auc<br>rows=%{x}<br>is_default=%{y}<br>dataset=%{text}<extra></extra>",
         "legendgroup": "lgbm_auc",
         "marker": {
          "color": "#FECB52",
          "symbol": "circle"
         },
         "mode": "markers+text",
         "name": "lgbm_auc",
         "orientation": "v",
         "showlegend": true,
         "text": [
          "adult",
          "ailerons",
          "bank-marketing",
          "electricity",
          "elevators",
          "eye-movements",
          "gas-drift",
          "glass",
          "higgs",
          "houses",
          "letter",
          "magic-telescope",
          "mammography",
          "nomao",
          "nursery"
         ],
         "type": "scatter",
         "x": [
          48842,
          13750,
          45211,
          45312,
          16599,
          10936,
          13910,
          214,
          98050,
          20640,
          20000,
          19020,
          11183,
          34465,
          12960
         ],
         "xaxis": "x",
         "y": [
          0,
          0,
          0,
          0,
          0,
          0.5,
          0,
          0,
          0,
          0,
          0,
          0,
          0,
          0,
          0
         ],
         "yaxis": "y"
        },
        {
         "hovertemplate": "metrics=lgbm_f1<br>rows=%{x}<br>is_default=%{y}<br>dataset=%{text}<extra></extra>",
         "legendgroup": "lgbm_f1",
         "marker": {
          "color": "#636efa",
          "symbol": "circle"
         },
         "mode": "markers+text",
         "name": "lgbm_f1",
         "orientation": "v",
         "showlegend": true,
         "text": [
          "adult",
          "ailerons",
          "bank-marketing",
          "credit-card-fraud-detection",
          "electricity",
          "elevators",
          "eye-movements",
          "gas-drift",
          "glass",
          "higgs",
          "houses",
          "letter",
          "magic-telescope",
          "mammography",
          "nomao",
          "nursery"
         ],
         "type": "scatter",
         "x": [
          48842,
          13750,
          45211,
          284807,
          45312,
          16599,
          10936,
          13910,
          214,
          98050,
          20640,
          20000,
          19020,
          11183,
          34465,
          12960
         ],
         "xaxis": "x",
         "y": [
          0,
          0,
          0.25,
          0,
          0,
          0,
          0,
          0,
          0,
          0,
          0,
          0,
          0,
          0.5,
          0,
          0
         ],
         "yaxis": "y"
        },
        {
         "hovertemplate": "metrics=logit_auc<br>rows=%{x}<br>is_default=%{y}<br>dataset=%{text}<extra></extra>",
         "legendgroup": "logit_auc",
         "marker": {
          "color": "#EF553B",
          "symbol": "circle"
         },
         "mode": "markers+text",
         "name": "logit_auc",
         "orientation": "v",
         "showlegend": true,
         "text": [
          "adult",
          "ailerons",
          "bank-marketing",
          "electricity",
          "elevators",
          "eye-movements",
          "gas-drift",
          "glass",
          "higgs",
          "houses",
          "letter",
          "magic-telescope",
          "mammography",
          "nomao",
          "nursery"
         ],
         "type": "scatter",
         "x": [
          48842,
          13750,
          45211,
          45312,
          16599,
          10936,
          13910,
          214,
          98050,
          20640,
          20000,
          19020,
          11183,
          34465,
          12960
         ],
         "xaxis": "x",
         "y": [
          0,
          0,
          0,
          0,
          0,
          0,
          0,
          0,
          0,
          0,
          0,
          0,
          0,
          0,
          0
         ],
         "yaxis": "y"
        },
        {
         "hovertemplate": "metrics=logit_f1<br>rows=%{x}<br>is_default=%{y}<br>dataset=%{text}<extra></extra>",
         "legendgroup": "logit_f1",
         "marker": {
          "color": "#00cc96",
          "symbol": "circle"
         },
         "mode": "markers+text",
         "name": "logit_f1",
         "orientation": "v",
         "showlegend": true,
         "text": [
          "adult",
          "ailerons",
          "bank-marketing",
          "credit-card-fraud-detection",
          "electricity",
          "elevators",
          "eye-movements",
          "gas-drift",
          "glass",
          "higgs",
          "houses",
          "letter",
          "magic-telescope",
          "mammography",
          "nomao",
          "nursery"
         ],
         "type": "scatter",
         "x": [
          48842,
          13750,
          45211,
          284807,
          45312,
          16599,
          10936,
          13910,
          214,
          98050,
          20640,
          20000,
          19020,
          11183,
          34465,
          12960
         ],
         "xaxis": "x",
         "y": [
          0,
          0,
          0,
          0,
          0,
          0,
          0,
          0,
          0,
          0,
          0,
          0,
          0,
          0,
          0,
          0
         ],
         "yaxis": "y"
        },
        {
         "hovertemplate": "metrics=rf_auc<br>rows=%{x}<br>is_default=%{y}<br>dataset=%{text}<extra></extra>",
         "legendgroup": "rf_auc",
         "marker": {
          "color": "#ab63fa",
          "symbol": "circle"
         },
         "mode": "markers+text",
         "name": "rf_auc",
         "orientation": "v",
         "showlegend": true,
         "text": [
          "adult",
          "ailerons",
          "bank-marketing",
          "electricity",
          "elevators",
          "eye-movements",
          "gas-drift",
          "glass",
          "higgs",
          "houses",
          "letter",
          "magic-telescope",
          "mammography",
          "nomao",
          "nursery"
         ],
         "type": "scatter",
         "x": [
          48842,
          13750,
          45211,
          45312,
          16599,
          10936,
          13910,
          214,
          98050,
          20640,
          20000,
          19020,
          11183,
          34465,
          12960
         ],
         "xaxis": "x",
         "y": [
          0,
          0,
          0.5,
          0.75,
          0,
          1,
          0,
          0,
          1,
          0,
          0,
          0,
          0,
          0,
          0
         ],
         "yaxis": "y"
        },
        {
         "hovertemplate": "metrics=rf_f1<br>rows=%{x}<br>is_default=%{y}<br>dataset=%{text}<extra></extra>",
         "legendgroup": "rf_f1",
         "marker": {
          "color": "#FFA15A",
          "symbol": "circle"
         },
         "mode": "markers+text",
         "name": "rf_f1",
         "orientation": "v",
         "showlegend": true,
         "text": [
          "adult",
          "ailerons",
          "bank-marketing",
          "credit-card-fraud-detection",
          "electricity",
          "elevators",
          "eye-movements",
          "gas-drift",
          "glass",
          "higgs",
          "houses",
          "letter",
          "magic-telescope",
          "mammography",
          "nomao",
          "nursery"
         ],
         "type": "scatter",
         "x": [
          48842,
          13750,
          45211,
          284807,
          45312,
          16599,
          10936,
          13910,
          214,
          98050,
          20640,
          20000,
          19020,
          11183,
          34465,
          12960
         ],
         "xaxis": "x",
         "y": [
          0.25,
          0,
          0.75,
          1,
          1,
          0,
          1,
          1,
          0,
          0,
          0,
          1,
          0.5,
          0.6666666666666666,
          0,
          0
         ],
         "yaxis": "y"
        }
       ],
       "layout": {
        "legend": {
         "title": {
          "text": "metrics"
         },
         "tracegroupgap": 0
        },
        "margin": {
         "t": 60
        },
        "template": {
         "data": {
          "bar": [
           {
            "error_x": {
             "color": "#2a3f5f"
            },
            "error_y": {
             "color": "#2a3f5f"
            },
            "marker": {
             "line": {
              "color": "#E5ECF6",
              "width": 0.5
             },
             "pattern": {
              "fillmode": "overlay",
              "size": 10,
              "solidity": 0.2
             }
            },
            "type": "bar"
           }
          ],
          "barpolar": [
           {
            "marker": {
             "line": {
              "color": "#E5ECF6",
              "width": 0.5
             },
             "pattern": {
              "fillmode": "overlay",
              "size": 10,
              "solidity": 0.2
             }
            },
            "type": "barpolar"
           }
          ],
          "carpet": [
           {
            "aaxis": {
             "endlinecolor": "#2a3f5f",
             "gridcolor": "white",
             "linecolor": "white",
             "minorgridcolor": "white",
             "startlinecolor": "#2a3f5f"
            },
            "baxis": {
             "endlinecolor": "#2a3f5f",
             "gridcolor": "white",
             "linecolor": "white",
             "minorgridcolor": "white",
             "startlinecolor": "#2a3f5f"
            },
            "type": "carpet"
           }
          ],
          "choropleth": [
           {
            "colorbar": {
             "outlinewidth": 0,
             "ticks": ""
            },
            "type": "choropleth"
           }
          ],
          "contour": [
           {
            "colorbar": {
             "outlinewidth": 0,
             "ticks": ""
            },
            "colorscale": [
             [
              0,
              "#0d0887"
             ],
             [
              0.1111111111111111,
              "#46039f"
             ],
             [
              0.2222222222222222,
              "#7201a8"
             ],
             [
              0.3333333333333333,
              "#9c179e"
             ],
             [
              0.4444444444444444,
              "#bd3786"
             ],
             [
              0.5555555555555556,
              "#d8576b"
             ],
             [
              0.6666666666666666,
              "#ed7953"
             ],
             [
              0.7777777777777778,
              "#fb9f3a"
             ],
             [
              0.8888888888888888,
              "#fdca26"
             ],
             [
              1,
              "#f0f921"
             ]
            ],
            "type": "contour"
           }
          ],
          "contourcarpet": [
           {
            "colorbar": {
             "outlinewidth": 0,
             "ticks": ""
            },
            "type": "contourcarpet"
           }
          ],
          "heatmap": [
           {
            "colorbar": {
             "outlinewidth": 0,
             "ticks": ""
            },
            "colorscale": [
             [
              0,
              "#0d0887"
             ],
             [
              0.1111111111111111,
              "#46039f"
             ],
             [
              0.2222222222222222,
              "#7201a8"
             ],
             [
              0.3333333333333333,
              "#9c179e"
             ],
             [
              0.4444444444444444,
              "#bd3786"
             ],
             [
              0.5555555555555556,
              "#d8576b"
             ],
             [
              0.6666666666666666,
              "#ed7953"
             ],
             [
              0.7777777777777778,
              "#fb9f3a"
             ],
             [
              0.8888888888888888,
              "#fdca26"
             ],
             [
              1,
              "#f0f921"
             ]
            ],
            "type": "heatmap"
           }
          ],
          "heatmapgl": [
           {
            "colorbar": {
             "outlinewidth": 0,
             "ticks": ""
            },
            "colorscale": [
             [
              0,
              "#0d0887"
             ],
             [
              0.1111111111111111,
              "#46039f"
             ],
             [
              0.2222222222222222,
              "#7201a8"
             ],
             [
              0.3333333333333333,
              "#9c179e"
             ],
             [
              0.4444444444444444,
              "#bd3786"
             ],
             [
              0.5555555555555556,
              "#d8576b"
             ],
             [
              0.6666666666666666,
              "#ed7953"
             ],
             [
              0.7777777777777778,
              "#fb9f3a"
             ],
             [
              0.8888888888888888,
              "#fdca26"
             ],
             [
              1,
              "#f0f921"
             ]
            ],
            "type": "heatmapgl"
           }
          ],
          "histogram": [
           {
            "marker": {
             "pattern": {
              "fillmode": "overlay",
              "size": 10,
              "solidity": 0.2
             }
            },
            "type": "histogram"
           }
          ],
          "histogram2d": [
           {
            "colorbar": {
             "outlinewidth": 0,
             "ticks": ""
            },
            "colorscale": [
             [
              0,
              "#0d0887"
             ],
             [
              0.1111111111111111,
              "#46039f"
             ],
             [
              0.2222222222222222,
              "#7201a8"
             ],
             [
              0.3333333333333333,
              "#9c179e"
             ],
             [
              0.4444444444444444,
              "#bd3786"
             ],
             [
              0.5555555555555556,
              "#d8576b"
             ],
             [
              0.6666666666666666,
              "#ed7953"
             ],
             [
              0.7777777777777778,
              "#fb9f3a"
             ],
             [
              0.8888888888888888,
              "#fdca26"
             ],
             [
              1,
              "#f0f921"
             ]
            ],
            "type": "histogram2d"
           }
          ],
          "histogram2dcontour": [
           {
            "colorbar": {
             "outlinewidth": 0,
             "ticks": ""
            },
            "colorscale": [
             [
              0,
              "#0d0887"
             ],
             [
              0.1111111111111111,
              "#46039f"
             ],
             [
              0.2222222222222222,
              "#7201a8"
             ],
             [
              0.3333333333333333,
              "#9c179e"
             ],
             [
              0.4444444444444444,
              "#bd3786"
             ],
             [
              0.5555555555555556,
              "#d8576b"
             ],
             [
              0.6666666666666666,
              "#ed7953"
             ],
             [
              0.7777777777777778,
              "#fb9f3a"
             ],
             [
              0.8888888888888888,
              "#fdca26"
             ],
             [
              1,
              "#f0f921"
             ]
            ],
            "type": "histogram2dcontour"
           }
          ],
          "mesh3d": [
           {
            "colorbar": {
             "outlinewidth": 0,
             "ticks": ""
            },
            "type": "mesh3d"
           }
          ],
          "parcoords": [
           {
            "line": {
             "colorbar": {
              "outlinewidth": 0,
              "ticks": ""
             }
            },
            "type": "parcoords"
           }
          ],
          "pie": [
           {
            "automargin": true,
            "type": "pie"
           }
          ],
          "scatter": [
           {
            "fillpattern": {
             "fillmode": "overlay",
             "size": 10,
             "solidity": 0.2
            },
            "type": "scatter"
           }
          ],
          "scatter3d": [
           {
            "line": {
             "colorbar": {
              "outlinewidth": 0,
              "ticks": ""
             }
            },
            "marker": {
             "colorbar": {
              "outlinewidth": 0,
              "ticks": ""
             }
            },
            "type": "scatter3d"
           }
          ],
          "scattercarpet": [
           {
            "marker": {
             "colorbar": {
              "outlinewidth": 0,
              "ticks": ""
             }
            },
            "type": "scattercarpet"
           }
          ],
          "scattergeo": [
           {
            "marker": {
             "colorbar": {
              "outlinewidth": 0,
              "ticks": ""
             }
            },
            "type": "scattergeo"
           }
          ],
          "scattergl": [
           {
            "marker": {
             "colorbar": {
              "outlinewidth": 0,
              "ticks": ""
             }
            },
            "type": "scattergl"
           }
          ],
          "scattermapbox": [
           {
            "marker": {
             "colorbar": {
              "outlinewidth": 0,
              "ticks": ""
             }
            },
            "type": "scattermapbox"
           }
          ],
          "scatterpolar": [
           {
            "marker": {
             "colorbar": {
              "outlinewidth": 0,
              "ticks": ""
             }
            },
            "type": "scatterpolar"
           }
          ],
          "scatterpolargl": [
           {
            "marker": {
             "colorbar": {
              "outlinewidth": 0,
              "ticks": ""
             }
            },
            "type": "scatterpolargl"
           }
          ],
          "scatterternary": [
           {
            "marker": {
             "colorbar": {
              "outlinewidth": 0,
              "ticks": ""
             }
            },
            "type": "scatterternary"
           }
          ],
          "surface": [
           {
            "colorbar": {
             "outlinewidth": 0,
             "ticks": ""
            },
            "colorscale": [
             [
              0,
              "#0d0887"
             ],
             [
              0.1111111111111111,
              "#46039f"
             ],
             [
              0.2222222222222222,
              "#7201a8"
             ],
             [
              0.3333333333333333,
              "#9c179e"
             ],
             [
              0.4444444444444444,
              "#bd3786"
             ],
             [
              0.5555555555555556,
              "#d8576b"
             ],
             [
              0.6666666666666666,
              "#ed7953"
             ],
             [
              0.7777777777777778,
              "#fb9f3a"
             ],
             [
              0.8888888888888888,
              "#fdca26"
             ],
             [
              1,
              "#f0f921"
             ]
            ],
            "type": "surface"
           }
          ],
          "table": [
           {
            "cells": {
             "fill": {
              "color": "#EBF0F8"
             },
             "line": {
              "color": "white"
             }
            },
            "header": {
             "fill": {
              "color": "#C8D4E3"
             },
             "line": {
              "color": "white"
             }
            },
            "type": "table"
           }
          ]
         },
         "layout": {
          "annotationdefaults": {
           "arrowcolor": "#2a3f5f",
           "arrowhead": 0,
           "arrowwidth": 1
          },
          "autotypenumbers": "strict",
          "coloraxis": {
           "colorbar": {
            "outlinewidth": 0,
            "ticks": ""
           }
          },
          "colorscale": {
           "diverging": [
            [
             0,
             "#8e0152"
            ],
            [
             0.1,
             "#c51b7d"
            ],
            [
             0.2,
             "#de77ae"
            ],
            [
             0.3,
             "#f1b6da"
            ],
            [
             0.4,
             "#fde0ef"
            ],
            [
             0.5,
             "#f7f7f7"
            ],
            [
             0.6,
             "#e6f5d0"
            ],
            [
             0.7,
             "#b8e186"
            ],
            [
             0.8,
             "#7fbc41"
            ],
            [
             0.9,
             "#4d9221"
            ],
            [
             1,
             "#276419"
            ]
           ],
           "sequential": [
            [
             0,
             "#0d0887"
            ],
            [
             0.1111111111111111,
             "#46039f"
            ],
            [
             0.2222222222222222,
             "#7201a8"
            ],
            [
             0.3333333333333333,
             "#9c179e"
            ],
            [
             0.4444444444444444,
             "#bd3786"
            ],
            [
             0.5555555555555556,
             "#d8576b"
            ],
            [
             0.6666666666666666,
             "#ed7953"
            ],
            [
             0.7777777777777778,
             "#fb9f3a"
            ],
            [
             0.8888888888888888,
             "#fdca26"
            ],
            [
             1,
             "#f0f921"
            ]
           ],
           "sequentialminus": [
            [
             0,
             "#0d0887"
            ],
            [
             0.1111111111111111,
             "#46039f"
            ],
            [
             0.2222222222222222,
             "#7201a8"
            ],
            [
             0.3333333333333333,
             "#9c179e"
            ],
            [
             0.4444444444444444,
             "#bd3786"
            ],
            [
             0.5555555555555556,
             "#d8576b"
            ],
            [
             0.6666666666666666,
             "#ed7953"
            ],
            [
             0.7777777777777778,
             "#fb9f3a"
            ],
            [
             0.8888888888888888,
             "#fdca26"
            ],
            [
             1,
             "#f0f921"
            ]
           ]
          },
          "colorway": [
           "#636efa",
           "#EF553B",
           "#00cc96",
           "#ab63fa",
           "#FFA15A",
           "#19d3f3",
           "#FF6692",
           "#B6E880",
           "#FF97FF",
           "#FECB52"
          ],
          "font": {
           "color": "#2a3f5f"
          },
          "geo": {
           "bgcolor": "white",
           "lakecolor": "white",
           "landcolor": "#E5ECF6",
           "showlakes": true,
           "showland": true,
           "subunitcolor": "white"
          },
          "hoverlabel": {
           "align": "left"
          },
          "hovermode": "closest",
          "mapbox": {
           "style": "light"
          },
          "paper_bgcolor": "white",
          "plot_bgcolor": "#E5ECF6",
          "polar": {
           "angularaxis": {
            "gridcolor": "white",
            "linecolor": "white",
            "ticks": ""
           },
           "bgcolor": "#E5ECF6",
           "radialaxis": {
            "gridcolor": "white",
            "linecolor": "white",
            "ticks": ""
           }
          },
          "scene": {
           "xaxis": {
            "backgroundcolor": "#E5ECF6",
            "gridcolor": "white",
            "gridwidth": 2,
            "linecolor": "white",
            "showbackground": true,
            "ticks": "",
            "zerolinecolor": "white"
           },
           "yaxis": {
            "backgroundcolor": "#E5ECF6",
            "gridcolor": "white",
            "gridwidth": 2,
            "linecolor": "white",
            "showbackground": true,
            "ticks": "",
            "zerolinecolor": "white"
           },
           "zaxis": {
            "backgroundcolor": "#E5ECF6",
            "gridcolor": "white",
            "gridwidth": 2,
            "linecolor": "white",
            "showbackground": true,
            "ticks": "",
            "zerolinecolor": "white"
           }
          },
          "shapedefaults": {
           "line": {
            "color": "#2a3f5f"
           }
          },
          "ternary": {
           "aaxis": {
            "gridcolor": "white",
            "linecolor": "white",
            "ticks": ""
           },
           "baxis": {
            "gridcolor": "white",
            "linecolor": "white",
            "ticks": ""
           },
           "bgcolor": "#E5ECF6",
           "caxis": {
            "gridcolor": "white",
            "linecolor": "white",
            "ticks": ""
           }
          },
          "title": {
           "x": 0.05
          },
          "xaxis": {
           "automargin": true,
           "gridcolor": "white",
           "linecolor": "white",
           "ticks": "",
           "title": {
            "standoff": 15
           },
           "zerolinecolor": "white",
           "zerolinewidth": 2
          },
          "yaxis": {
           "automargin": true,
           "gridcolor": "white",
           "linecolor": "white",
           "ticks": "",
           "title": {
            "standoff": 15
           },
           "zerolinecolor": "white",
           "zerolinewidth": 2
          }
         }
        },
        "xaxis": {
         "anchor": "y",
         "domain": [
          0,
          1
         ],
         "title": {
          "text": "rows"
         }
        },
        "yaxis": {
         "anchor": "x",
         "domain": [
          0,
          1
         ],
         "title": {
          "text": "is_default"
         }
        }
       }
      },
      "text/html": [
       "<div>                            <div id=\"143dd069-aa28-483c-b764-7ee9aa54ff91\" class=\"plotly-graph-div\" style=\"height:525px; width:100%;\"></div>            <script type=\"text/javascript\">                require([\"plotly\"], function(Plotly) {                    window.PLOTLYENV=window.PLOTLYENV || {};                                    if (document.getElementById(\"143dd069-aa28-483c-b764-7ee9aa54ff91\")) {                    Plotly.newPlot(                        \"143dd069-aa28-483c-b764-7ee9aa54ff91\",                        [{\"hovertemplate\":\"metrics=dt_mae<br>rows=%{x}<br>is_default=%{y}<br>dataset=%{text}<extra></extra>\",\"legendgroup\":\"dt_mae\",\"marker\":{\"color\":\"#636efa\",\"symbol\":\"circle\"},\"mode\":\"markers+text\",\"name\":\"dt_mae\",\"orientation\":\"v\",\"showlegend\":true,\"text\":[\"2dplanes\",\"30mlday\",\"brazilian-houses\",\"delays-zurich-transport\",\"diamonds\",\"fried\",\"house-sales\",\"insurance\",\"miami2016\",\"sarcos\",\"sulfur\",\"superconduct\"],\"x\":[40768,300000,10692,27327,53940,40768,21613,1338,13932,48933,10081,21263],\"xaxis\":\"x\",\"y\":[0.0,0.0,1.0,0.0,1.0,0.5,0.0,0.0,0.75,1.0,0.0,1.0],\"yaxis\":\"y\",\"type\":\"scatter\"},{\"hovertemplate\":\"metrics=dt_mse<br>rows=%{x}<br>is_default=%{y}<br>dataset=%{text}<extra></extra>\",\"legendgroup\":\"dt_mse\",\"marker\":{\"color\":\"#EF553B\",\"symbol\":\"circle\"},\"mode\":\"markers+text\",\"name\":\"dt_mse\",\"orientation\":\"v\",\"showlegend\":true,\"text\":[\"2dplanes\",\"30mlday\",\"brazilian-houses\",\"diamonds\",\"fried\",\"house-sales\",\"insurance\",\"miami2016\",\"sulfur\",\"superconduct\"],\"x\":[40768,300000,10692,53940,40768,21613,1338,13932,10081,21263],\"xaxis\":\"x\",\"y\":[0.0,0.0,1.0,0.0,0.25,0.0,0.0,0.0,0.5,0.0],\"yaxis\":\"y\",\"type\":\"scatter\"},{\"hovertemplate\":\"metrics=dt_r2<br>rows=%{x}<br>is_default=%{y}<br>dataset=%{text}<extra></extra>\",\"legendgroup\":\"dt_r2\",\"marker\":{\"color\":\"#00cc96\",\"symbol\":\"circle\"},\"mode\":\"markers+text\",\"name\":\"dt_r2\",\"orientation\":\"v\",\"showlegend\":true,\"text\":[\"2dplanes\",\"brazilian-houses\",\"delays-zurich-transport\",\"diamonds\",\"fried\",\"house-sales\",\"insurance\",\"miami2016\",\"sarcos\",\"sulfur\",\"superconduct\"],\"x\":[40768,10692,27327,53940,40768,21613,1338,13932,48933,10081,21263],\"xaxis\":\"x\",\"y\":[0.0,0.75,0.0,0.0,0.5,0.0,0.0,0.0,0.0,0.0,0.5],\"yaxis\":\"y\",\"type\":\"scatter\"},{\"hovertemplate\":\"metrics=knn_mae<br>rows=%{x}<br>is_default=%{y}<br>dataset=%{text}<extra></extra>\",\"legendgroup\":\"knn_mae\",\"marker\":{\"color\":\"#ab63fa\",\"symbol\":\"circle\"},\"mode\":\"markers+text\",\"name\":\"knn_mae\",\"orientation\":\"v\",\"showlegend\":true,\"text\":[\"2dplanes\",\"30mlday\",\"brazilian-houses\",\"delays-zurich-transport\",\"diamonds\",\"fried\",\"house-sales\",\"insurance\",\"miami2016\",\"sarcos\",\"sulfur\",\"superconduct\"],\"x\":[40768,300000,10692,27327,53940,40768,21613,1338,13932,48933,10081,21263],\"xaxis\":\"x\",\"y\":[0.0,0.0,0.0,0.0,0.0,0.0,0.0,0.0,0.0,0.0,0.0,0.0],\"yaxis\":\"y\",\"type\":\"scatter\"},{\"hovertemplate\":\"metrics=knn_mse<br>rows=%{x}<br>is_default=%{y}<br>dataset=%{text}<extra></extra>\",\"legendgroup\":\"knn_mse\",\"marker\":{\"color\":\"#FFA15A\",\"symbol\":\"circle\"},\"mode\":\"markers+text\",\"name\":\"knn_mse\",\"orientation\":\"v\",\"showlegend\":true,\"text\":[\"2dplanes\",\"30mlday\",\"brazilian-houses\",\"delays-zurich-transport\",\"diamonds\",\"fried\",\"house-sales\",\"insurance\",\"miami2016\",\"sarcos\",\"sulfur\",\"superconduct\"],\"x\":[40768,300000,10692,27327,53940,40768,21613,1338,13932,48933,10081,21263],\"xaxis\":\"x\",\"y\":[0.0,0.0,0.0,0.0,0.0,0.0,0.0,0.0,0.0,0.5,0.0,0.0],\"yaxis\":\"y\",\"type\":\"scatter\"},{\"hovertemplate\":\"metrics=knn_r2<br>rows=%{x}<br>is_default=%{y}<br>dataset=%{text}<extra></extra>\",\"legendgroup\":\"knn_r2\",\"marker\":{\"color\":\"#19d3f3\",\"symbol\":\"circle\"},\"mode\":\"markers+text\",\"name\":\"knn_r2\",\"orientation\":\"v\",\"showlegend\":true,\"text\":[\"2dplanes\",\"black-friday\",\"brazilian-houses\",\"delays-zurich-transport\",\"diamonds\",\"fried\",\"house-sales\",\"insurance\",\"miami2016\",\"sarcos\",\"sulfur\",\"superconduct\"],\"x\":[40768,166821,10692,27327,53940,40768,21613,1338,13932,48933,10081,21263],\"xaxis\":\"x\",\"y\":[0.0,0.5,0.0,0.0,0.0,0.0,0.0,0.0,0.0,0.0,0.0,0.0],\"yaxis\":\"y\",\"type\":\"scatter\"},{\"hovertemplate\":\"metrics=lgbm_mae<br>rows=%{x}<br>is_default=%{y}<br>dataset=%{text}<extra></extra>\",\"legendgroup\":\"lgbm_mae\",\"marker\":{\"color\":\"#FF6692\",\"symbol\":\"circle\"},\"mode\":\"markers+text\",\"name\":\"lgbm_mae\",\"orientation\":\"v\",\"showlegend\":true,\"text\":[\"2dplanes\",\"30mlday\",\"brazilian-houses\",\"delays-zurich-transport\",\"diamonds\",\"fried\",\"house-sales\",\"insurance\",\"miami2016\",\"sarcos\",\"sulfur\",\"superconduct\"],\"x\":[40768,300000,10692,27327,53940,40768,21613,1338,13932,48933,10081,21263],\"xaxis\":\"x\",\"y\":[0.0,0.0,0.75,0.0,0.0,0.25,0.0,0.0,0.5,0.5,0.5,0.0],\"yaxis\":\"y\",\"type\":\"scatter\"},{\"hovertemplate\":\"metrics=lgbm_mse<br>rows=%{x}<br>is_default=%{y}<br>dataset=%{text}<extra></extra>\",\"legendgroup\":\"lgbm_mse\",\"marker\":{\"color\":\"#B6E880\",\"symbol\":\"circle\"},\"mode\":\"markers+text\",\"name\":\"lgbm_mse\",\"orientation\":\"v\",\"showlegend\":true,\"text\":[\"2dplanes\",\"30mlday\",\"brazilian-houses\",\"diamonds\",\"fried\",\"house-sales\",\"insurance\",\"miami2016\",\"sulfur\",\"superconduct\"],\"x\":[40768,300000,10692,53940,40768,21613,1338,13932,10081,21263],\"xaxis\":\"x\",\"y\":[0.0,0.0,0.0,0.0,0.0,0.0,0.5,0.25,0.5,0.0],\"yaxis\":\"y\",\"type\":\"scatter\"},{\"hovertemplate\":\"metrics=lgbm_r2<br>rows=%{x}<br>is_default=%{y}<br>dataset=%{text}<extra></extra>\",\"legendgroup\":\"lgbm_r2\",\"marker\":{\"color\":\"#FF97FF\",\"symbol\":\"circle\"},\"mode\":\"markers+text\",\"name\":\"lgbm_r2\",\"orientation\":\"v\",\"showlegend\":true,\"text\":[\"2dplanes\",\"black-friday\",\"brazilian-houses\",\"delays-zurich-transport\",\"diamonds\",\"fried\",\"house-sales\",\"insurance\",\"miami2016\",\"sarcos\",\"sulfur\",\"superconduct\"],\"x\":[40768,166821,10692,27327,53940,40768,21613,1338,13932,48933,10081,21263],\"xaxis\":\"x\",\"y\":[0.0,0.5,0.0,0.0,0.0,0.0,0.0,0.25,0.0,0.0,0.5,0.0],\"yaxis\":\"y\",\"type\":\"scatter\"},{\"hovertemplate\":\"metrics=rf_mae<br>rows=%{x}<br>is_default=%{y}<br>dataset=%{text}<extra></extra>\",\"legendgroup\":\"rf_mae\",\"marker\":{\"color\":\"#FECB52\",\"symbol\":\"circle\"},\"mode\":\"markers+text\",\"name\":\"rf_mae\",\"orientation\":\"v\",\"showlegend\":true,\"text\":[\"2dplanes\",\"30mlday\",\"brazilian-houses\",\"delays-zurich-transport\",\"diamonds\",\"fried\",\"house-sales\",\"insurance\",\"miami2016\",\"sarcos\",\"sulfur\",\"superconduct\"],\"x\":[40768,300000,10692,27327,53940,40768,21613,1338,13932,48933,10081,21263],\"xaxis\":\"x\",\"y\":[0.0,0.0,1.0,0.5,1.0,1.0,0.0,0.0,1.0,1.0,1.0,1.0],\"yaxis\":\"y\",\"type\":\"scatter\"},{\"hovertemplate\":\"metrics=rf_mse<br>rows=%{x}<br>is_default=%{y}<br>dataset=%{text}<extra></extra>\",\"legendgroup\":\"rf_mse\",\"marker\":{\"color\":\"#636efa\",\"symbol\":\"circle\"},\"mode\":\"markers+text\",\"name\":\"rf_mse\",\"orientation\":\"v\",\"showlegend\":true,\"text\":[\"2dplanes\",\"30mlday\",\"brazilian-houses\",\"diamonds\",\"fried\",\"house-sales\",\"insurance\",\"miami2016\",\"sulfur\",\"superconduct\"],\"x\":[40768,300000,10692,53940,40768,21613,1338,13932,10081,21263],\"xaxis\":\"x\",\"y\":[0.5,0.0,0.75,0.0,1.0,0.0,0.0,1.0,0.5,1.0],\"yaxis\":\"y\",\"type\":\"scatter\"},{\"hovertemplate\":\"metrics=rf_r2<br>rows=%{x}<br>is_default=%{y}<br>dataset=%{text}<extra></extra>\",\"legendgroup\":\"rf_r2\",\"marker\":{\"color\":\"#EF553B\",\"symbol\":\"circle\"},\"mode\":\"markers+text\",\"name\":\"rf_r2\",\"orientation\":\"v\",\"showlegend\":true,\"text\":[\"2dplanes\",\"brazilian-houses\",\"delays-zurich-transport\",\"diamonds\",\"fried\",\"house-sales\",\"insurance\",\"miami2016\",\"sarcos\",\"sulfur\",\"superconduct\"],\"x\":[40768,10692,27327,53940,40768,21613,1338,13932,48933,10081,21263],\"xaxis\":\"x\",\"y\":[0.0,1.0,0.0,0.0,1.0,0.0,0.0,0.5,1.0,0.5,1.0],\"yaxis\":\"y\",\"type\":\"scatter\"},{\"hovertemplate\":\"metrics=ridge_mae<br>rows=%{x}<br>is_default=%{y}<br>dataset=%{text}<extra></extra>\",\"legendgroup\":\"ridge_mae\",\"marker\":{\"color\":\"#00cc96\",\"symbol\":\"circle\"},\"mode\":\"markers+text\",\"name\":\"ridge_mae\",\"orientation\":\"v\",\"showlegend\":true,\"text\":[\"2dplanes\",\"30mlday\",\"brazilian-houses\",\"delays-zurich-transport\",\"diamonds\",\"fried\",\"house-sales\",\"insurance\",\"miami2016\",\"sarcos\",\"sulfur\",\"superconduct\"],\"x\":[40768,300000,10692,27327,53940,40768,21613,1338,13932,48933,10081,21263],\"xaxis\":\"x\",\"y\":[0.0,0.0,0.0,0.0,0.0,0.0,0.0,0.0,0.0,0.0,0.0,0.0],\"yaxis\":\"y\",\"type\":\"scatter\"},{\"hovertemplate\":\"metrics=ridge_mse<br>rows=%{x}<br>is_default=%{y}<br>dataset=%{text}<extra></extra>\",\"legendgroup\":\"ridge_mse\",\"marker\":{\"color\":\"#ab63fa\",\"symbol\":\"circle\"},\"mode\":\"markers+text\",\"name\":\"ridge_mse\",\"orientation\":\"v\",\"showlegend\":true,\"text\":[\"2dplanes\",\"30mlday\",\"brazilian-houses\",\"diamonds\",\"fried\",\"house-sales\",\"insurance\",\"miami2016\",\"sulfur\",\"superconduct\"],\"x\":[40768,300000,10692,53940,40768,21613,1338,13932,10081,21263],\"xaxis\":\"x\",\"y\":[0.0,0.0,0.0,0.0,0.0,0.0,0.0,0.0,0.0,0.0],\"yaxis\":\"y\",\"type\":\"scatter\"},{\"hovertemplate\":\"metrics=ridge_r2<br>rows=%{x}<br>is_default=%{y}<br>dataset=%{text}<extra></extra>\",\"legendgroup\":\"ridge_r2\",\"marker\":{\"color\":\"#FFA15A\",\"symbol\":\"circle\"},\"mode\":\"markers+text\",\"name\":\"ridge_r2\",\"orientation\":\"v\",\"showlegend\":true,\"text\":[\"2dplanes\",\"brazilian-houses\",\"delays-zurich-transport\",\"diamonds\",\"fried\",\"house-sales\",\"insurance\",\"miami2016\",\"sarcos\",\"sulfur\",\"superconduct\"],\"x\":[40768,10692,27327,53940,40768,21613,1338,13932,48933,10081,21263],\"xaxis\":\"x\",\"y\":[0.0,0.0,0.0,0.0,0.0,0.0,0.0,0.0,0.0,0.0,0.0],\"yaxis\":\"y\",\"type\":\"scatter\"},{\"hovertemplate\":\"metrics=dt_auc<br>rows=%{x}<br>is_default=%{y}<br>dataset=%{text}<extra></extra>\",\"legendgroup\":\"dt_auc\",\"marker\":{\"color\":\"#19d3f3\",\"symbol\":\"circle\"},\"mode\":\"markers+text\",\"name\":\"dt_auc\",\"orientation\":\"v\",\"showlegend\":true,\"text\":[\"adult\",\"ailerons\",\"bank-marketing\",\"electricity\",\"elevators\",\"eye-movements\",\"gas-drift\",\"glass\",\"higgs\",\"houses\",\"letter\",\"magic-telescope\",\"mammography\",\"nomao\",\"nursery\"],\"x\":[48842,13750,45211,45312,16599,10936,13910,214,98050,20640,20000,19020,11183,34465,12960],\"xaxis\":\"x\",\"y\":[0.0,0.0,0.0,0.0,0.0,0.0,0.0,0.0,0.0,0.0,0.0,0.0,0.0,0.0,0.0],\"yaxis\":\"y\",\"type\":\"scatter\"},{\"hovertemplate\":\"metrics=dt_f1<br>rows=%{x}<br>is_default=%{y}<br>dataset=%{text}<extra></extra>\",\"legendgroup\":\"dt_f1\",\"marker\":{\"color\":\"#FF6692\",\"symbol\":\"circle\"},\"mode\":\"markers+text\",\"name\":\"dt_f1\",\"orientation\":\"v\",\"showlegend\":true,\"text\":[\"adult\",\"ailerons\",\"bank-marketing\",\"credit-card-fraud-detection\",\"electricity\",\"elevators\",\"eye-movements\",\"gas-drift\",\"glass\",\"higgs\",\"houses\",\"letter\",\"magic-telescope\",\"mammography\",\"nomao\",\"nursery\"],\"x\":[48842,13750,45211,284807,45312,16599,10936,13910,214,98050,20640,20000,19020,11183,34465,12960],\"xaxis\":\"x\",\"y\":[0.0,0.0,0.5,1.0,0.5,0.0,0.5,0.5,0.25,0.0,0.0,0.75,0.0,0.25,0.0,0.0],\"yaxis\":\"y\",\"type\":\"scatter\"},{\"hovertemplate\":\"metrics=knn_auc<br>rows=%{x}<br>is_default=%{y}<br>dataset=%{text}<extra></extra>\",\"legendgroup\":\"knn_auc\",\"marker\":{\"color\":\"#B6E880\",\"symbol\":\"circle\"},\"mode\":\"markers+text\",\"name\":\"knn_auc\",\"orientation\":\"v\",\"showlegend\":true,\"text\":[\"adult\",\"ailerons\",\"bank-marketing\",\"electricity\",\"elevators\",\"eye-movements\",\"gas-drift\",\"glass\",\"higgs\",\"houses\",\"letter\",\"magic-telescope\",\"mammography\",\"nomao\",\"nursery\"],\"x\":[48842,13750,45211,45312,16599,10936,13910,214,98050,20640,20000,19020,11183,34465,12960],\"xaxis\":\"x\",\"y\":[0.0,0.0,0.0,0.0,0.0,0.0,0.0,0.0,0.0,0.0,0.0,0.0,0.0,0.0,0.0],\"yaxis\":\"y\",\"type\":\"scatter\"},{\"hovertemplate\":\"metrics=knn_f1<br>rows=%{x}<br>is_default=%{y}<br>dataset=%{text}<extra></extra>\",\"legendgroup\":\"knn_f1\",\"marker\":{\"color\":\"#FF97FF\",\"symbol\":\"circle\"},\"mode\":\"markers+text\",\"name\":\"knn_f1\",\"orientation\":\"v\",\"showlegend\":true,\"text\":[\"adult\",\"ailerons\",\"bank-marketing\",\"credit-card-fraud-detection\",\"electricity\",\"elevators\",\"eye-movements\",\"gas-drift\",\"glass\",\"higgs\",\"houses\",\"letter\",\"magic-telescope\",\"mammography\",\"nomao\",\"nursery\"],\"x\":[48842,13750,45211,284807,45312,16599,10936,13910,214,98050,20640,20000,19020,11183,34465,12960],\"xaxis\":\"x\",\"y\":[0.0,0.0,0.0,0.0,0.0,0.0,0.0,0.0,0.0,0.0,0.0,0.0,0.0,0.0,0.0,0.0],\"yaxis\":\"y\",\"type\":\"scatter\"},{\"hovertemplate\":\"metrics=lgbm_auc<br>rows=%{x}<br>is_default=%{y}<br>dataset=%{text}<extra></extra>\",\"legendgroup\":\"lgbm_auc\",\"marker\":{\"color\":\"#FECB52\",\"symbol\":\"circle\"},\"mode\":\"markers+text\",\"name\":\"lgbm_auc\",\"orientation\":\"v\",\"showlegend\":true,\"text\":[\"adult\",\"ailerons\",\"bank-marketing\",\"electricity\",\"elevators\",\"eye-movements\",\"gas-drift\",\"glass\",\"higgs\",\"houses\",\"letter\",\"magic-telescope\",\"mammography\",\"nomao\",\"nursery\"],\"x\":[48842,13750,45211,45312,16599,10936,13910,214,98050,20640,20000,19020,11183,34465,12960],\"xaxis\":\"x\",\"y\":[0.0,0.0,0.0,0.0,0.0,0.5,0.0,0.0,0.0,0.0,0.0,0.0,0.0,0.0,0.0],\"yaxis\":\"y\",\"type\":\"scatter\"},{\"hovertemplate\":\"metrics=lgbm_f1<br>rows=%{x}<br>is_default=%{y}<br>dataset=%{text}<extra></extra>\",\"legendgroup\":\"lgbm_f1\",\"marker\":{\"color\":\"#636efa\",\"symbol\":\"circle\"},\"mode\":\"markers+text\",\"name\":\"lgbm_f1\",\"orientation\":\"v\",\"showlegend\":true,\"text\":[\"adult\",\"ailerons\",\"bank-marketing\",\"credit-card-fraud-detection\",\"electricity\",\"elevators\",\"eye-movements\",\"gas-drift\",\"glass\",\"higgs\",\"houses\",\"letter\",\"magic-telescope\",\"mammography\",\"nomao\",\"nursery\"],\"x\":[48842,13750,45211,284807,45312,16599,10936,13910,214,98050,20640,20000,19020,11183,34465,12960],\"xaxis\":\"x\",\"y\":[0.0,0.0,0.25,0.0,0.0,0.0,0.0,0.0,0.0,0.0,0.0,0.0,0.0,0.5,0.0,0.0],\"yaxis\":\"y\",\"type\":\"scatter\"},{\"hovertemplate\":\"metrics=logit_auc<br>rows=%{x}<br>is_default=%{y}<br>dataset=%{text}<extra></extra>\",\"legendgroup\":\"logit_auc\",\"marker\":{\"color\":\"#EF553B\",\"symbol\":\"circle\"},\"mode\":\"markers+text\",\"name\":\"logit_auc\",\"orientation\":\"v\",\"showlegend\":true,\"text\":[\"adult\",\"ailerons\",\"bank-marketing\",\"electricity\",\"elevators\",\"eye-movements\",\"gas-drift\",\"glass\",\"higgs\",\"houses\",\"letter\",\"magic-telescope\",\"mammography\",\"nomao\",\"nursery\"],\"x\":[48842,13750,45211,45312,16599,10936,13910,214,98050,20640,20000,19020,11183,34465,12960],\"xaxis\":\"x\",\"y\":[0.0,0.0,0.0,0.0,0.0,0.0,0.0,0.0,0.0,0.0,0.0,0.0,0.0,0.0,0.0],\"yaxis\":\"y\",\"type\":\"scatter\"},{\"hovertemplate\":\"metrics=logit_f1<br>rows=%{x}<br>is_default=%{y}<br>dataset=%{text}<extra></extra>\",\"legendgroup\":\"logit_f1\",\"marker\":{\"color\":\"#00cc96\",\"symbol\":\"circle\"},\"mode\":\"markers+text\",\"name\":\"logit_f1\",\"orientation\":\"v\",\"showlegend\":true,\"text\":[\"adult\",\"ailerons\",\"bank-marketing\",\"credit-card-fraud-detection\",\"electricity\",\"elevators\",\"eye-movements\",\"gas-drift\",\"glass\",\"higgs\",\"houses\",\"letter\",\"magic-telescope\",\"mammography\",\"nomao\",\"nursery\"],\"x\":[48842,13750,45211,284807,45312,16599,10936,13910,214,98050,20640,20000,19020,11183,34465,12960],\"xaxis\":\"x\",\"y\":[0.0,0.0,0.0,0.0,0.0,0.0,0.0,0.0,0.0,0.0,0.0,0.0,0.0,0.0,0.0,0.0],\"yaxis\":\"y\",\"type\":\"scatter\"},{\"hovertemplate\":\"metrics=rf_auc<br>rows=%{x}<br>is_default=%{y}<br>dataset=%{text}<extra></extra>\",\"legendgroup\":\"rf_auc\",\"marker\":{\"color\":\"#ab63fa\",\"symbol\":\"circle\"},\"mode\":\"markers+text\",\"name\":\"rf_auc\",\"orientation\":\"v\",\"showlegend\":true,\"text\":[\"adult\",\"ailerons\",\"bank-marketing\",\"electricity\",\"elevators\",\"eye-movements\",\"gas-drift\",\"glass\",\"higgs\",\"houses\",\"letter\",\"magic-telescope\",\"mammography\",\"nomao\",\"nursery\"],\"x\":[48842,13750,45211,45312,16599,10936,13910,214,98050,20640,20000,19020,11183,34465,12960],\"xaxis\":\"x\",\"y\":[0.0,0.0,0.5,0.75,0.0,1.0,0.0,0.0,1.0,0.0,0.0,0.0,0.0,0.0,0.0],\"yaxis\":\"y\",\"type\":\"scatter\"},{\"hovertemplate\":\"metrics=rf_f1<br>rows=%{x}<br>is_default=%{y}<br>dataset=%{text}<extra></extra>\",\"legendgroup\":\"rf_f1\",\"marker\":{\"color\":\"#FFA15A\",\"symbol\":\"circle\"},\"mode\":\"markers+text\",\"name\":\"rf_f1\",\"orientation\":\"v\",\"showlegend\":true,\"text\":[\"adult\",\"ailerons\",\"bank-marketing\",\"credit-card-fraud-detection\",\"electricity\",\"elevators\",\"eye-movements\",\"gas-drift\",\"glass\",\"higgs\",\"houses\",\"letter\",\"magic-telescope\",\"mammography\",\"nomao\",\"nursery\"],\"x\":[48842,13750,45211,284807,45312,16599,10936,13910,214,98050,20640,20000,19020,11183,34465,12960],\"xaxis\":\"x\",\"y\":[0.25,0.0,0.75,1.0,1.0,0.0,1.0,1.0,0.0,0.0,0.0,1.0,0.5,0.6666666666666666,0.0,0.0],\"yaxis\":\"y\",\"type\":\"scatter\"}],                        {\"template\":{\"data\":{\"histogram2dcontour\":[{\"type\":\"histogram2dcontour\",\"colorbar\":{\"outlinewidth\":0,\"ticks\":\"\"},\"colorscale\":[[0.0,\"#0d0887\"],[0.1111111111111111,\"#46039f\"],[0.2222222222222222,\"#7201a8\"],[0.3333333333333333,\"#9c179e\"],[0.4444444444444444,\"#bd3786\"],[0.5555555555555556,\"#d8576b\"],[0.6666666666666666,\"#ed7953\"],[0.7777777777777778,\"#fb9f3a\"],[0.8888888888888888,\"#fdca26\"],[1.0,\"#f0f921\"]]}],\"choropleth\":[{\"type\":\"choropleth\",\"colorbar\":{\"outlinewidth\":0,\"ticks\":\"\"}}],\"histogram2d\":[{\"type\":\"histogram2d\",\"colorbar\":{\"outlinewidth\":0,\"ticks\":\"\"},\"colorscale\":[[0.0,\"#0d0887\"],[0.1111111111111111,\"#46039f\"],[0.2222222222222222,\"#7201a8\"],[0.3333333333333333,\"#9c179e\"],[0.4444444444444444,\"#bd3786\"],[0.5555555555555556,\"#d8576b\"],[0.6666666666666666,\"#ed7953\"],[0.7777777777777778,\"#fb9f3a\"],[0.8888888888888888,\"#fdca26\"],[1.0,\"#f0f921\"]]}],\"heatmap\":[{\"type\":\"heatmap\",\"colorbar\":{\"outlinewidth\":0,\"ticks\":\"\"},\"colorscale\":[[0.0,\"#0d0887\"],[0.1111111111111111,\"#46039f\"],[0.2222222222222222,\"#7201a8\"],[0.3333333333333333,\"#9c179e\"],[0.4444444444444444,\"#bd3786\"],[0.5555555555555556,\"#d8576b\"],[0.6666666666666666,\"#ed7953\"],[0.7777777777777778,\"#fb9f3a\"],[0.8888888888888888,\"#fdca26\"],[1.0,\"#f0f921\"]]}],\"heatmapgl\":[{\"type\":\"heatmapgl\",\"colorbar\":{\"outlinewidth\":0,\"ticks\":\"\"},\"colorscale\":[[0.0,\"#0d0887\"],[0.1111111111111111,\"#46039f\"],[0.2222222222222222,\"#7201a8\"],[0.3333333333333333,\"#9c179e\"],[0.4444444444444444,\"#bd3786\"],[0.5555555555555556,\"#d8576b\"],[0.6666666666666666,\"#ed7953\"],[0.7777777777777778,\"#fb9f3a\"],[0.8888888888888888,\"#fdca26\"],[1.0,\"#f0f921\"]]}],\"contourcarpet\":[{\"type\":\"contourcarpet\",\"colorbar\":{\"outlinewidth\":0,\"ticks\":\"\"}}],\"contour\":[{\"type\":\"contour\",\"colorbar\":{\"outlinewidth\":0,\"ticks\":\"\"},\"colorscale\":[[0.0,\"#0d0887\"],[0.1111111111111111,\"#46039f\"],[0.2222222222222222,\"#7201a8\"],[0.3333333333333333,\"#9c179e\"],[0.4444444444444444,\"#bd3786\"],[0.5555555555555556,\"#d8576b\"],[0.6666666666666666,\"#ed7953\"],[0.7777777777777778,\"#fb9f3a\"],[0.8888888888888888,\"#fdca26\"],[1.0,\"#f0f921\"]]}],\"surface\":[{\"type\":\"surface\",\"colorbar\":{\"outlinewidth\":0,\"ticks\":\"\"},\"colorscale\":[[0.0,\"#0d0887\"],[0.1111111111111111,\"#46039f\"],[0.2222222222222222,\"#7201a8\"],[0.3333333333333333,\"#9c179e\"],[0.4444444444444444,\"#bd3786\"],[0.5555555555555556,\"#d8576b\"],[0.6666666666666666,\"#ed7953\"],[0.7777777777777778,\"#fb9f3a\"],[0.8888888888888888,\"#fdca26\"],[1.0,\"#f0f921\"]]}],\"mesh3d\":[{\"type\":\"mesh3d\",\"colorbar\":{\"outlinewidth\":0,\"ticks\":\"\"}}],\"scatter\":[{\"fillpattern\":{\"fillmode\":\"overlay\",\"size\":10,\"solidity\":0.2},\"type\":\"scatter\"}],\"parcoords\":[{\"type\":\"parcoords\",\"line\":{\"colorbar\":{\"outlinewidth\":0,\"ticks\":\"\"}}}],\"scatterpolargl\":[{\"type\":\"scatterpolargl\",\"marker\":{\"colorbar\":{\"outlinewidth\":0,\"ticks\":\"\"}}}],\"bar\":[{\"error_x\":{\"color\":\"#2a3f5f\"},\"error_y\":{\"color\":\"#2a3f5f\"},\"marker\":{\"line\":{\"color\":\"#E5ECF6\",\"width\":0.5},\"pattern\":{\"fillmode\":\"overlay\",\"size\":10,\"solidity\":0.2}},\"type\":\"bar\"}],\"scattergeo\":[{\"type\":\"scattergeo\",\"marker\":{\"colorbar\":{\"outlinewidth\":0,\"ticks\":\"\"}}}],\"scatterpolar\":[{\"type\":\"scatterpolar\",\"marker\":{\"colorbar\":{\"outlinewidth\":0,\"ticks\":\"\"}}}],\"histogram\":[{\"marker\":{\"pattern\":{\"fillmode\":\"overlay\",\"size\":10,\"solidity\":0.2}},\"type\":\"histogram\"}],\"scattergl\":[{\"type\":\"scattergl\",\"marker\":{\"colorbar\":{\"outlinewidth\":0,\"ticks\":\"\"}}}],\"scatter3d\":[{\"type\":\"scatter3d\",\"line\":{\"colorbar\":{\"outlinewidth\":0,\"ticks\":\"\"}},\"marker\":{\"colorbar\":{\"outlinewidth\":0,\"ticks\":\"\"}}}],\"scattermapbox\":[{\"type\":\"scattermapbox\",\"marker\":{\"colorbar\":{\"outlinewidth\":0,\"ticks\":\"\"}}}],\"scatterternary\":[{\"type\":\"scatterternary\",\"marker\":{\"colorbar\":{\"outlinewidth\":0,\"ticks\":\"\"}}}],\"scattercarpet\":[{\"type\":\"scattercarpet\",\"marker\":{\"colorbar\":{\"outlinewidth\":0,\"ticks\":\"\"}}}],\"carpet\":[{\"aaxis\":{\"endlinecolor\":\"#2a3f5f\",\"gridcolor\":\"white\",\"linecolor\":\"white\",\"minorgridcolor\":\"white\",\"startlinecolor\":\"#2a3f5f\"},\"baxis\":{\"endlinecolor\":\"#2a3f5f\",\"gridcolor\":\"white\",\"linecolor\":\"white\",\"minorgridcolor\":\"white\",\"startlinecolor\":\"#2a3f5f\"},\"type\":\"carpet\"}],\"table\":[{\"cells\":{\"fill\":{\"color\":\"#EBF0F8\"},\"line\":{\"color\":\"white\"}},\"header\":{\"fill\":{\"color\":\"#C8D4E3\"},\"line\":{\"color\":\"white\"}},\"type\":\"table\"}],\"barpolar\":[{\"marker\":{\"line\":{\"color\":\"#E5ECF6\",\"width\":0.5},\"pattern\":{\"fillmode\":\"overlay\",\"size\":10,\"solidity\":0.2}},\"type\":\"barpolar\"}],\"pie\":[{\"automargin\":true,\"type\":\"pie\"}]},\"layout\":{\"autotypenumbers\":\"strict\",\"colorway\":[\"#636efa\",\"#EF553B\",\"#00cc96\",\"#ab63fa\",\"#FFA15A\",\"#19d3f3\",\"#FF6692\",\"#B6E880\",\"#FF97FF\",\"#FECB52\"],\"font\":{\"color\":\"#2a3f5f\"},\"hovermode\":\"closest\",\"hoverlabel\":{\"align\":\"left\"},\"paper_bgcolor\":\"white\",\"plot_bgcolor\":\"#E5ECF6\",\"polar\":{\"bgcolor\":\"#E5ECF6\",\"angularaxis\":{\"gridcolor\":\"white\",\"linecolor\":\"white\",\"ticks\":\"\"},\"radialaxis\":{\"gridcolor\":\"white\",\"linecolor\":\"white\",\"ticks\":\"\"}},\"ternary\":{\"bgcolor\":\"#E5ECF6\",\"aaxis\":{\"gridcolor\":\"white\",\"linecolor\":\"white\",\"ticks\":\"\"},\"baxis\":{\"gridcolor\":\"white\",\"linecolor\":\"white\",\"ticks\":\"\"},\"caxis\":{\"gridcolor\":\"white\",\"linecolor\":\"white\",\"ticks\":\"\"}},\"coloraxis\":{\"colorbar\":{\"outlinewidth\":0,\"ticks\":\"\"}},\"colorscale\":{\"sequential\":[[0.0,\"#0d0887\"],[0.1111111111111111,\"#46039f\"],[0.2222222222222222,\"#7201a8\"],[0.3333333333333333,\"#9c179e\"],[0.4444444444444444,\"#bd3786\"],[0.5555555555555556,\"#d8576b\"],[0.6666666666666666,\"#ed7953\"],[0.7777777777777778,\"#fb9f3a\"],[0.8888888888888888,\"#fdca26\"],[1.0,\"#f0f921\"]],\"sequentialminus\":[[0.0,\"#0d0887\"],[0.1111111111111111,\"#46039f\"],[0.2222222222222222,\"#7201a8\"],[0.3333333333333333,\"#9c179e\"],[0.4444444444444444,\"#bd3786\"],[0.5555555555555556,\"#d8576b\"],[0.6666666666666666,\"#ed7953\"],[0.7777777777777778,\"#fb9f3a\"],[0.8888888888888888,\"#fdca26\"],[1.0,\"#f0f921\"]],\"diverging\":[[0,\"#8e0152\"],[0.1,\"#c51b7d\"],[0.2,\"#de77ae\"],[0.3,\"#f1b6da\"],[0.4,\"#fde0ef\"],[0.5,\"#f7f7f7\"],[0.6,\"#e6f5d0\"],[0.7,\"#b8e186\"],[0.8,\"#7fbc41\"],[0.9,\"#4d9221\"],[1,\"#276419\"]]},\"xaxis\":{\"gridcolor\":\"white\",\"linecolor\":\"white\",\"ticks\":\"\",\"title\":{\"standoff\":15},\"zerolinecolor\":\"white\",\"automargin\":true,\"zerolinewidth\":2},\"yaxis\":{\"gridcolor\":\"white\",\"linecolor\":\"white\",\"ticks\":\"\",\"title\":{\"standoff\":15},\"zerolinecolor\":\"white\",\"automargin\":true,\"zerolinewidth\":2},\"scene\":{\"xaxis\":{\"backgroundcolor\":\"#E5ECF6\",\"gridcolor\":\"white\",\"linecolor\":\"white\",\"showbackground\":true,\"ticks\":\"\",\"zerolinecolor\":\"white\",\"gridwidth\":2},\"yaxis\":{\"backgroundcolor\":\"#E5ECF6\",\"gridcolor\":\"white\",\"linecolor\":\"white\",\"showbackground\":true,\"ticks\":\"\",\"zerolinecolor\":\"white\",\"gridwidth\":2},\"zaxis\":{\"backgroundcolor\":\"#E5ECF6\",\"gridcolor\":\"white\",\"linecolor\":\"white\",\"showbackground\":true,\"ticks\":\"\",\"zerolinecolor\":\"white\",\"gridwidth\":2}},\"shapedefaults\":{\"line\":{\"color\":\"#2a3f5f\"}},\"annotationdefaults\":{\"arrowcolor\":\"#2a3f5f\",\"arrowhead\":0,\"arrowwidth\":1},\"geo\":{\"bgcolor\":\"white\",\"landcolor\":\"#E5ECF6\",\"subunitcolor\":\"white\",\"showland\":true,\"showlakes\":true,\"lakecolor\":\"white\"},\"title\":{\"x\":0.05},\"mapbox\":{\"style\":\"light\"}}},\"xaxis\":{\"anchor\":\"y\",\"domain\":[0.0,1.0],\"title\":{\"text\":\"rows\"}},\"yaxis\":{\"anchor\":\"x\",\"domain\":[0.0,1.0],\"title\":{\"text\":\"is_default\"}},\"legend\":{\"title\":{\"text\":\"metrics\"},\"tracegroupgap\":0},\"margin\":{\"t\":60}},                        {\"responsive\": true}                    ).then(function(){\n",
       "                            \n",
       "var gd = document.getElementById('143dd069-aa28-483c-b764-7ee9aa54ff91');\n",
       "var x = new MutationObserver(function (mutations, observer) {{\n",
       "        var display = window.getComputedStyle(gd).display;\n",
       "        if (!display || display === 'none') {{\n",
       "            console.log([gd, 'removed!']);\n",
       "            Plotly.purge(gd);\n",
       "            observer.disconnect();\n",
       "        }}\n",
       "}});\n",
       "\n",
       "// Listen for the removal of the full notebook cells\n",
       "var notebookContainer = gd.closest('#notebook-container');\n",
       "if (notebookContainer) {{\n",
       "    x.observe(notebookContainer, {childList: true});\n",
       "}}\n",
       "\n",
       "// Listen for the clearing of the current output cell\n",
       "var outputEl = gd.closest('.output');\n",
       "if (outputEl) {{\n",
       "    x.observe(outputEl, {childList: true});\n",
       "}}\n",
       "\n",
       "                        })                };                });            </script>        </div>"
      ]
     },
     "metadata": {},
     "output_type": "display_data"
    }
   ],
   "source": [
    "is_default = data_safe[data_safe['approach'] != 'default'].groupby(['dataset', 'fitted_operation', 'metrics']).agg({'is_default': 'mean'}).reset_index().merge(overview)\n",
    "is_default['metrics'] = is_default['fitted_operation'] + '_' + is_default['metrics']\n",
    "fig = px.scatter(is_default, x='rows', y='is_default', color='metrics', text='dataset')\n",
    "fig.show()"
   ]
  },
  {
   "cell_type": "code",
   "execution_count": 150,
   "metadata": {},
   "outputs": [
    {
     "data": {
      "text/html": [
       "<div>\n",
       "<style scoped>\n",
       "    .dataframe tbody tr th:only-of-type {\n",
       "        vertical-align: middle;\n",
       "    }\n",
       "\n",
       "    .dataframe tbody tr th {\n",
       "        vertical-align: top;\n",
       "    }\n",
       "\n",
       "    .dataframe thead th {\n",
       "        text-align: right;\n",
       "    }\n",
       "</style>\n",
       "<table border=\"1\" class=\"dataframe\">\n",
       "  <thead>\n",
       "    <tr style=\"text-align: right;\">\n",
       "      <th></th>\n",
       "      <th>dataset</th>\n",
       "      <th>fitted_operation</th>\n",
       "      <th>approach</th>\n",
       "      <th>experiment_number</th>\n",
       "      <th>score_train</th>\n",
       "      <th>score_test</th>\n",
       "      <th>time_spent</th>\n",
       "      <th>alpha</th>\n",
       "      <th>n_jobs</th>\n",
       "      <th>num_leaves</th>\n",
       "      <th>...</th>\n",
       "      <th>C</th>\n",
       "      <th>name</th>\n",
       "      <th>rows</th>\n",
       "      <th>num_features</th>\n",
       "      <th>cat_features</th>\n",
       "      <th>num_classes</th>\n",
       "      <th>task</th>\n",
       "      <th>source</th>\n",
       "      <th>ascending_metrics</th>\n",
       "      <th>is_default</th>\n",
       "    </tr>\n",
       "    <tr>\n",
       "      <th>metrics</th>\n",
       "      <th></th>\n",
       "      <th></th>\n",
       "      <th></th>\n",
       "      <th></th>\n",
       "      <th></th>\n",
       "      <th></th>\n",
       "      <th></th>\n",
       "      <th></th>\n",
       "      <th></th>\n",
       "      <th></th>\n",
       "      <th></th>\n",
       "      <th></th>\n",
       "      <th></th>\n",
       "      <th></th>\n",
       "      <th></th>\n",
       "      <th></th>\n",
       "      <th></th>\n",
       "      <th></th>\n",
       "      <th></th>\n",
       "      <th></th>\n",
       "      <th></th>\n",
       "    </tr>\n",
       "  </thead>\n",
       "  <tbody>\n",
       "    <tr>\n",
       "      <th>auc</th>\n",
       "      <td>8</td>\n",
       "      <td>8</td>\n",
       "      <td>8</td>\n",
       "      <td>8</td>\n",
       "      <td>8</td>\n",
       "      <td>8</td>\n",
       "      <td>8</td>\n",
       "      <td>0</td>\n",
       "      <td>8</td>\n",
       "      <td>0</td>\n",
       "      <td>...</td>\n",
       "      <td>0</td>\n",
       "      <td>8</td>\n",
       "      <td>8</td>\n",
       "      <td>8</td>\n",
       "      <td>8</td>\n",
       "      <td>8</td>\n",
       "      <td>8</td>\n",
       "      <td>8</td>\n",
       "      <td>8</td>\n",
       "      <td>8</td>\n",
       "    </tr>\n",
       "    <tr>\n",
       "      <th>f1</th>\n",
       "      <td>21</td>\n",
       "      <td>21</td>\n",
       "      <td>21</td>\n",
       "      <td>21</td>\n",
       "      <td>21</td>\n",
       "      <td>21</td>\n",
       "      <td>21</td>\n",
       "      <td>0</td>\n",
       "      <td>21</td>\n",
       "      <td>0</td>\n",
       "      <td>...</td>\n",
       "      <td>0</td>\n",
       "      <td>21</td>\n",
       "      <td>21</td>\n",
       "      <td>21</td>\n",
       "      <td>21</td>\n",
       "      <td>21</td>\n",
       "      <td>21</td>\n",
       "      <td>21</td>\n",
       "      <td>21</td>\n",
       "      <td>21</td>\n",
       "    </tr>\n",
       "    <tr>\n",
       "      <th>mae</th>\n",
       "      <td>20</td>\n",
       "      <td>20</td>\n",
       "      <td>20</td>\n",
       "      <td>20</td>\n",
       "      <td>20</td>\n",
       "      <td>20</td>\n",
       "      <td>20</td>\n",
       "      <td>0</td>\n",
       "      <td>20</td>\n",
       "      <td>0</td>\n",
       "      <td>...</td>\n",
       "      <td>0</td>\n",
       "      <td>20</td>\n",
       "      <td>20</td>\n",
       "      <td>20</td>\n",
       "      <td>20</td>\n",
       "      <td>20</td>\n",
       "      <td>20</td>\n",
       "      <td>20</td>\n",
       "      <td>20</td>\n",
       "      <td>20</td>\n",
       "    </tr>\n",
       "    <tr>\n",
       "      <th>mse</th>\n",
       "      <td>14</td>\n",
       "      <td>14</td>\n",
       "      <td>14</td>\n",
       "      <td>14</td>\n",
       "      <td>14</td>\n",
       "      <td>14</td>\n",
       "      <td>14</td>\n",
       "      <td>0</td>\n",
       "      <td>14</td>\n",
       "      <td>0</td>\n",
       "      <td>...</td>\n",
       "      <td>0</td>\n",
       "      <td>14</td>\n",
       "      <td>14</td>\n",
       "      <td>14</td>\n",
       "      <td>14</td>\n",
       "      <td>14</td>\n",
       "      <td>14</td>\n",
       "      <td>14</td>\n",
       "      <td>14</td>\n",
       "      <td>14</td>\n",
       "    </tr>\n",
       "    <tr>\n",
       "      <th>r2</th>\n",
       "      <td>14</td>\n",
       "      <td>14</td>\n",
       "      <td>14</td>\n",
       "      <td>14</td>\n",
       "      <td>14</td>\n",
       "      <td>14</td>\n",
       "      <td>14</td>\n",
       "      <td>0</td>\n",
       "      <td>14</td>\n",
       "      <td>0</td>\n",
       "      <td>...</td>\n",
       "      <td>0</td>\n",
       "      <td>14</td>\n",
       "      <td>14</td>\n",
       "      <td>14</td>\n",
       "      <td>14</td>\n",
       "      <td>14</td>\n",
       "      <td>14</td>\n",
       "      <td>14</td>\n",
       "      <td>14</td>\n",
       "      <td>14</td>\n",
       "    </tr>\n",
       "  </tbody>\n",
       "</table>\n",
       "<p>5 rows × 37 columns</p>\n",
       "</div>"
      ],
      "text/plain": [
       "         dataset  fitted_operation  approach  experiment_number  score_train  \\\n",
       "metrics                                                                        \n",
       "auc            8                 8         8                  8            8   \n",
       "f1            21                21        21                 21           21   \n",
       "mae           20                20        20                 20           20   \n",
       "mse           14                14        14                 14           14   \n",
       "r2            14                14        14                 14           14   \n",
       "\n",
       "         score_test  time_spent  alpha  n_jobs  num_leaves  ...  C  name  \\\n",
       "metrics                                                     ...            \n",
       "auc               8           8      0       8           0  ...  0     8   \n",
       "f1               21          21      0      21           0  ...  0    21   \n",
       "mae              20          20      0      20           0  ...  0    20   \n",
       "mse              14          14      0      14           0  ...  0    14   \n",
       "r2               14          14      0      14           0  ...  0    14   \n",
       "\n",
       "         rows  num_features  cat_features  num_classes  task  source  \\\n",
       "metrics                                                                \n",
       "auc         8             8             8            8     8       8   \n",
       "f1         21            21            21           21    21      21   \n",
       "mae        20            20            20           20    20      20   \n",
       "mse        14            14            14           14    14      14   \n",
       "r2         14            14            14           14    14      14   \n",
       "\n",
       "         ascending_metrics  is_default  \n",
       "metrics                                 \n",
       "auc                      8           8  \n",
       "f1                      21          21  \n",
       "mae                     20          20  \n",
       "mse                     14          14  \n",
       "r2                      14          14  \n",
       "\n",
       "[5 rows x 37 columns]"
      ]
     },
     "execution_count": 150,
     "metadata": {},
     "output_type": "execute_result"
    }
   ],
   "source": [
    "data_safe[(data_safe['is_default'] == 1) & (data_safe['fitted_operation'] == 'rf') & (data_safe['approach'] != 'default')].groupby('metrics').count()"
   ]
  },
  {
   "cell_type": "code",
   "execution_count": 127,
   "metadata": {},
   "outputs": [],
   "source": [
    "data = data_safe[data_safe['is_default'] == 0]\n",
    "data[['max_score_train', 'max_score_test']] = data.groupby(['dataset', 'metrics', 'fitted_operation']).transform(max)[['score_train', 'score_test']]\n",
    "data[['min_score_train', 'min_score_test']] = data.groupby(['dataset', 'metrics', 'fitted_operation']).transform(min)[['score_train', 'score_test']]\n",
    "data_best_train = data[np.where(np.isin(data['metrics'], ['mse', 'mae']),\n",
    "                                data['score_train'] == data['min_score_train'], \n",
    "                                data['score_train'] == data['max_score_train'])]\n",
    "data_best_test = data[np.where(np.isin(data['metrics'], ['mse', 'mae']),\n",
    "                               data['score_test'] == data['min_score_test'], \n",
    "                               data['score_test'] == data['max_score_test'])]"
   ]
  },
  {
   "cell_type": "code",
   "execution_count": 128,
   "metadata": {},
   "outputs": [],
   "source": [
    "params = {\n",
    "    'ridge': {\n",
    "        'alpha': ('loguniform', [1e-9, 1e4])\n",
    "    },\n",
    "    'logit': {\n",
    "        'C': ('loguniform', [1e-9, 1e4])\n",
    "    },\n",
    "    'knn': {\n",
    "        'n_neighbors': ('randint', [1, 100]),\n",
    "        'metric': ('choice', [['euclidean', 'manhattan', 'chebyshev', 'cosine']]),\n",
    "        'weights': ('choice', [['uniform', 'distance']])\n",
    "    },\n",
    "    'dt': {\n",
    "        'max_depth': ('randint', [2, 15]),\n",
    "        'min_samples_leaf': ('uniform', [1e-4, 0.5])\n",
    "    },\n",
    "    'rf': {\n",
    "        'n_estimators': ('randint', [10, 1000]),\n",
    "        'max_features': ('uniform', [0.2, 1]),\n",
    "        'bootstrap': ('choice', [[True, False]]),\n",
    "        'max_depth': ('randint', [2, 15]),\n",
    "        'min_samples_leaf': ('uniform', [1e-4, 0.5])\n",
    "    },\n",
    "    'lgbm': {\n",
    "        'n_estimators': ('randint', [10, 1000]),\n",
    "        'learning_rate': ('loguniform', [1e-4, 1e1]),\n",
    "        'max_depth': ('randint', [2, 15]),\n",
    "        'min_samples_leaf': ('uniform', [1e-4, 0.5]),\n",
    "        'colsample_bytree': ('uniform', [0.2, 1]),\n",
    "        'subsample': ('uniform', [0.2, 1]),\n",
    "        'max_bin': ('randint', [3, 511]),\n",
    "        'lambda_l1': ('loguniform', [1e-5, 1e2]),\n",
    "        'lambda_l2': ('loguniform', [1e-5, 1e2])\n",
    "    }\n",
    "}"
   ]
  },
  {
   "cell_type": "code",
   "execution_count": 129,
   "metadata": {},
   "outputs": [],
   "source": [
    "def plot_distr(data_):\n",
    "    for fo in params:\n",
    "        for param in params[fo]:\n",
    "            info = params[fo][param]\n",
    "            if param not in data.columns:\n",
    "                continue\n",
    "            data_tmp = data_[data_['fitted_operation'] == fo][[param]].dropna()\n",
    "            if data_tmp.shape[0] == 0:\n",
    "                continue\n",
    "\n",
    "            print(fo, param)\n",
    "            if info[0] == 'choice':\n",
    "                sns.barplot(data=data_tmp.reset_index().groupby(param, as_index=False).count().rename(columns={'index': 'cnt'}), x=param, y='cnt')\n",
    "                plt.show()\n",
    "            else:\n",
    "                sns.histplot(data_tmp, log_scale=info[0] == 'loguniform')\n",
    "                plt.xlim(*info[1])\n",
    "                plt.show()"
   ]
  },
  {
   "cell_type": "code",
   "execution_count": 130,
   "metadata": {},
   "outputs": [
    {
     "name": "stdout",
     "output_type": "stream",
     "text": [
      "ridge alpha\n"
     ]
    },
    {
     "data": {
      "image/png": "[encoded data removed]",
      "text/plain": [
       "<Figure size 432x288 with 1 Axes>"
      ]
     },
     "metadata": {
      "needs_background": "light"
     },
     "output_type": "display_data"
    },
    {
     "name": "stdout",
     "output_type": "stream",
     "text": [
      "logit C\n"
     ]
    },
    {
     "data": {
      "image/png": "[encoded data removed]",
      "text/plain": [
       "<Figure size 432x288 with 1 Axes>"
      ]
     },
     "metadata": {
      "needs_background": "light"
     },
     "output_type": "display_data"
    },
    {
     "name": "stdout",
     "output_type": "stream",
     "text": [
      "knn n_neighbors\n"
     ]
    },
    {
     "data": {
      "image/png": "[encoded data removed]",
      "text/plain": [
       "<Figure size 432x288 with 1 Axes>"
      ]
     },
     "metadata": {
      "needs_background": "light"
     },
     "output_type": "display_data"
    },
    {
     "name": "stdout",
     "output_type": "stream",
     "text": [
      "knn metric\n"
     ]
    },
    {
     "data": {
      "image/png": "[encoded data removed]",
      "text/plain": [
       "<Figure size 432x288 with 1 Axes>"
      ]
     },
     "metadata": {
      "needs_background": "light"
     },
     "output_type": "display_data"
    },
    {
     "name": "stdout",
     "output_type": "stream",
     "text": [
      "knn weights\n"
     ]
    },
    {
     "data": {
      "image/png": "[encoded data removed]",
      "text/plain": [
       "<Figure size 432x288 with 1 Axes>"
      ]
     },
     "metadata": {
      "needs_background": "light"
     },
     "output_type": "display_data"
    },
    {
     "name": "stdout",
     "output_type": "stream",
     "text": [
      "dt max_depth\n"
     ]
    },
    {
     "data": {
      "image/png": "[encoded data removed]",
      "text/plain": [
       "<Figure size 432x288 with 1 Axes>"
      ]
     },
     "metadata": {
      "needs_background": "light"
     },
     "output_type": "display_data"
    },
    {
     "name": "stdout",
     "output_type": "stream",
     "text": [
      "dt min_samples_leaf\n"
     ]
    },
    {
     "data": {
      "image/png": "[encoded data removed]",
      "text/plain": [
       "<Figure size 432x288 with 1 Axes>"
      ]
     },
     "metadata": {
      "needs_background": "light"
     },
     "output_type": "display_data"
    },
    {
     "name": "stdout",
     "output_type": "stream",
     "text": [
      "rf n_estimators\n"
     ]
    },
    {
     "data": {
      "image/png": "[encoded data removed]",
      "text/plain": [
       "<Figure size 432x288 with 1 Axes>"
      ]
     },
     "metadata": {
      "needs_background": "light"
     },
     "output_type": "display_data"
    },
    {
     "name": "stdout",
     "output_type": "stream",
     "text": [
      "rf max_features\n"
     ]
    },
    {
     "data": {
      "image/png": "[encoded data removed]",
      "text/plain": [
       "<Figure size 432x288 with 1 Axes>"
      ]
     },
     "metadata": {
      "needs_background": "light"
     },
     "output_type": "display_data"
    },
    {
     "name": "stdout",
     "output_type": "stream",
     "text": [
      "rf bootstrap\n"
     ]
    },
    {
     "data": {
      "image/png": "[encoded data removed]",
      "text/plain": [
       "<Figure size 432x288 with 1 Axes>"
      ]
     },
     "metadata": {
      "needs_background": "light"
     },
     "output_type": "display_data"
    },
    {
     "name": "stdout",
     "output_type": "stream",
     "text": [
      "rf max_depth\n"
     ]
    },
    {
     "data": {
      "image/png": "[encoded data removed]",
      "text/plain": [
       "<Figure size 432x288 with 1 Axes>"
      ]
     },
     "metadata": {
      "needs_background": "light"
     },
     "output_type": "display_data"
    },
    {
     "name": "stdout",
     "output_type": "stream",
     "text": [
      "rf min_samples_leaf\n"
     ]
    },
    {
     "data": {
      "image/png": "[encoded data removed]",
      "text/plain": [
       "<Figure size 432x288 with 1 Axes>"
      ]
     },
     "metadata": {
      "needs_background": "light"
     },
     "output_type": "display_data"
    },
    {
     "name": "stdout",
     "output_type": "stream",
     "text": [
      "lgbm n_estimators\n"
     ]
    },
    {
     "data": {
      "image/png": "[encoded data removed]",
      "text/plain": [
       "<Figure size 432x288 with 1 Axes>"
      ]
     },
     "metadata": {
      "needs_background": "light"
     },
     "output_type": "display_data"
    },
    {
     "name": "stdout",
     "output_type": "stream",
     "text": [
      "lgbm learning_rate\n"
     ]
    },
    {
     "data": {
      "image/png": "[encoded data removed]",
      "text/plain": [
       "<Figure size 432x288 with 1 Axes>"
      ]
     },
     "metadata": {
      "needs_background": "light"
     },
     "output_type": "display_data"
    },
    {
     "name": "stdout",
     "output_type": "stream",
     "text": [
      "lgbm max_depth\n"
     ]
    },
    {
     "data": {
      "image/png": "[encoded data removed]",
      "text/plain": [
       "<Figure size 432x288 with 1 Axes>"
      ]
     },
     "metadata": {
      "needs_background": "light"
     },
     "output_type": "display_data"
    },
    {
     "name": "stdout",
     "output_type": "stream",
     "text": [
      "lgbm min_samples_leaf\n"
     ]
    },
    {
     "data": {
      "image/png": "[encoded data removed]",
      "text/plain": [
       "<Figure size 432x288 with 1 Axes>"
      ]
     },
     "metadata": {
      "needs_background": "light"
     },
     "output_type": "display_data"
    },
    {
     "name": "stdout",
     "output_type": "stream",
     "text": [
      "lgbm colsample_bytree\n"
     ]
    },
    {
     "data": {
      "image/png": "[encoded data removed]",
      "text/plain": [
       "<Figure size 432x288 with 1 Axes>"
      ]
     },
     "metadata": {
      "needs_background": "light"
     },
     "output_type": "display_data"
    },
    {
     "name": "stdout",
     "output_type": "stream",
     "text": [
      "lgbm subsample\n"
     ]
    },
    {
     "data": {
      "image/png": "[encoded data removed]",
      "text/plain": [
       "<Figure size 432x288 with 1 Axes>"
      ]
     },
     "metadata": {
      "needs_background": "light"
     },
     "output_type": "display_data"
    },
    {
     "name": "stdout",
     "output_type": "stream",
     "text": [
      "lgbm max_bin\n"
     ]
    },
    {
     "data": {
      "image/png": "[encoded data removed]",
      "text/plain": [
       "<Figure size 432x288 with 1 Axes>"
      ]
     },
     "metadata": {
      "needs_background": "light"
     },
     "output_type": "display_data"
    },
    {
     "name": "stdout",
     "output_type": "stream",
     "text": [
      "lgbm lambda_l1\n"
     ]
    },
    {
     "data": {
      "image/png": "[encoded data removed]",
      "text/plain": [
       "<Figure size 432x288 with 1 Axes>"
      ]
     },
     "metadata": {
      "needs_background": "light"
     },
     "output_type": "display_data"
    },
    {
     "name": "stdout",
     "output_type": "stream",
     "text": [
      "lgbm lambda_l2\n"
     ]
    },
    {
     "data": {
      "image/png": "[encoded data removed]",
      "text/plain": [
       "<Figure size 432x288 with 1 Axes>"
      ]
     },
     "metadata": {
      "needs_background": "light"
     },
     "output_type": "display_data"
    }
   ],
   "source": [
    "plot_distr(data_best_train)"
   ]
  },
  {
   "cell_type": "code",
   "execution_count": 131,
   "metadata": {},
   "outputs": [
    {
     "name": "stdout",
     "output_type": "stream",
     "text": [
      "ridge alpha\n"
     ]
    },
    {
     "data": {
      "image/png": "[encoded data removed]",
      "text/plain": [
       "<Figure size 432x288 with 1 Axes>"
      ]
     },
     "metadata": {
      "needs_background": "light"
     },
     "output_type": "display_data"
    },
    {
     "name": "stdout",
     "output_type": "stream",
     "text": [
      "logit C\n"
     ]
    },
    {
     "data": {
      "image/png": "[encoded data removed]",
      "text/plain": [
       "<Figure size 432x288 with 1 Axes>"
      ]
     },
     "metadata": {
      "needs_background": "light"
     },
     "output_type": "display_data"
    },
    {
     "name": "stdout",
     "output_type": "stream",
     "text": [
      "knn n_neighbors\n"
     ]
    },
    {
     "data": {
      "image/png": "[encoded data removed]",
      "text/plain": [
       "<Figure size 432x288 with 1 Axes>"
      ]
     },
     "metadata": {
      "needs_background": "light"
     },
     "output_type": "display_data"
    },
    {
     "name": "stdout",
     "output_type": "stream",
     "text": [
      "knn metric\n"
     ]
    },
    {
     "data": {
      "image/png": "[encoded data removed]",
      "text/plain": [
       "<Figure size 432x288 with 1 Axes>"
      ]
     },
     "metadata": {
      "needs_background": "light"
     },
     "output_type": "display_data"
    },
    {
     "name": "stdout",
     "output_type": "stream",
     "text": [
      "knn weights\n"
     ]
    },
    {
     "data": {
      "image/png": "[encoded data removed]",
      "text/plain": [
       "<Figure size 432x288 with 1 Axes>"
      ]
     },
     "metadata": {
      "needs_background": "light"
     },
     "output_type": "display_data"
    },
    {
     "name": "stdout",
     "output_type": "stream",
     "text": [
      "dt max_depth\n"
     ]
    },
    {
     "data": {
      "image/png": "[encoded data removed]",
      "text/plain": [
       "<Figure size 432x288 with 1 Axes>"
      ]
     },
     "metadata": {
      "needs_background": "light"
     },
     "output_type": "display_data"
    },
    {
     "name": "stdout",
     "output_type": "stream",
     "text": [
      "dt min_samples_leaf\n"
     ]
    },
    {
     "data": {
      "image/png": "[encoded data removed]",
      "text/plain": [
       "<Figure size 432x288 with 1 Axes>"
      ]
     },
     "metadata": {
      "needs_background": "light"
     },
     "output_type": "display_data"
    },
    {
     "name": "stdout",
     "output_type": "stream",
     "text": [
      "rf n_estimators\n"
     ]
    },
    {
     "data": {
      "image/png": "[encoded data removed]",
      "text/plain": [
       "<Figure size 432x288 with 1 Axes>"
      ]
     },
     "metadata": {
      "needs_background": "light"
     },
     "output_type": "display_data"
    },
    {
     "name": "stdout",
     "output_type": "stream",
     "text": [
      "rf max_features\n"
     ]
    },
    {
     "data": {
      "image/png": "[encoded data removed]",
      "text/plain": [
       "<Figure size 432x288 with 1 Axes>"
      ]
     },
     "metadata": {
      "needs_background": "light"
     },
     "output_type": "display_data"
    },
    {
     "name": "stdout",
     "output_type": "stream",
     "text": [
      "rf bootstrap\n"
     ]
    },
    {
     "data": {
      "image/png": "[encoded data removed]",
      "text/plain": [
       "<Figure size 432x288 with 1 Axes>"
      ]
     },
     "metadata": {
      "needs_background": "light"
     },
     "output_type": "display_data"
    },
    {
     "name": "stdout",
     "output_type": "stream",
     "text": [
      "rf max_depth\n"
     ]
    },
    {
     "data": {
      "image/png": "[encoded data removed]",
      "text/plain": [
       "<Figure size 432x288 with 1 Axes>"
      ]
     },
     "metadata": {
      "needs_background": "light"
     },
     "output_type": "display_data"
    },
    {
     "name": "stdout",
     "output_type": "stream",
     "text": [
      "rf min_samples_leaf\n"
     ]
    },
    {
     "data": {
      "image/png": "[encoded data removed]",
      "text/plain": [
       "<Figure size 432x288 with 1 Axes>"
      ]
     },
     "metadata": {
      "needs_background": "light"
     },
     "output_type": "display_data"
    },
    {
     "name": "stdout",
     "output_type": "stream",
     "text": [
      "lgbm n_estimators\n"
     ]
    },
    {
     "data": {
      "image/png": "[encoded data removed]",
      "text/plain": [
       "<Figure size 432x288 with 1 Axes>"
      ]
     },
     "metadata": {
      "needs_background": "light"
     },
     "output_type": "display_data"
    },
    {
     "name": "stdout",
     "output_type": "stream",
     "text": [
      "lgbm learning_rate\n"
     ]
    },
    {
     "data": {
      "image/png": "[encoded data removed]",
      "text/plain": [
       "<Figure size 432x288 with 1 Axes>"
      ]
     },
     "metadata": {
      "needs_background": "light"
     },
     "output_type": "display_data"
    },
    {
     "name": "stdout",
     "output_type": "stream",
     "text": [
      "lgbm max_depth\n"
     ]
    },
    {
     "data": {
      "image/png": "[encoded data removed]",
      "text/plain": [
       "<Figure size 432x288 with 1 Axes>"
      ]
     },
     "metadata": {
      "needs_background": "light"
     },
     "output_type": "display_data"
    },
    {
     "name": "stdout",
     "output_type": "stream",
     "text": [
      "lgbm min_samples_leaf\n"
     ]
    },
    {
     "data": {
      "image/png": "[encoded data removed]",
      "text/plain": [
       "<Figure size 432x288 with 1 Axes>"
      ]
     },
     "metadata": {
      "needs_background": "light"
     },
     "output_type": "display_data"
    },
    {
     "name": "stdout",
     "output_type": "stream",
     "text": [
      "lgbm colsample_bytree\n"
     ]
    },
    {
     "data": {
      "image/png": "[encoded data removed]",
      "text/plain": [
       "<Figure size 432x288 with 1 Axes>"
      ]
     },
     "metadata": {
      "needs_background": "light"
     },
     "output_type": "display_data"
    },
    {
     "name": "stdout",
     "output_type": "stream",
     "text": [
      "lgbm subsample\n"
     ]
    },
    {
     "data": {
      "image/png": "[encoded data removed]",
      "text/plain": [
       "<Figure size 432x288 with 1 Axes>"
      ]
     },
     "metadata": {
      "needs_background": "light"
     },
     "output_type": "display_data"
    },
    {
     "name": "stdout",
     "output_type": "stream",
     "text": [
      "lgbm max_bin\n"
     ]
    },
    {
     "data": {
      "image/png": "[encoded data removed]",
      "text/plain": [
       "<Figure size 432x288 with 1 Axes>"
      ]
     },
     "metadata": {
      "needs_background": "light"
     },
     "output_type": "display_data"
    },
    {
     "name": "stdout",
     "output_type": "stream",
     "text": [
      "lgbm lambda_l1\n"
     ]
    },
    {
     "data": {
      "image/png": "[encoded data removed]",
      "text/plain": [
       "<Figure size 432x288 with 1 Axes>"
      ]
     },
     "metadata": {
      "needs_background": "light"
     },
     "output_type": "display_data"
    },
    {
     "name": "stdout",
     "output_type": "stream",
     "text": [
      "lgbm lambda_l2\n"
     ]
    },
    {
     "data": {
      "image/png": "[encoded data removed]",
      "text/plain": [
       "<Figure size 432x288 with 1 Axes>"
      ]
     },
     "metadata": {
      "needs_background": "light"
     },
     "output_type": "display_data"
    }
   ],
   "source": [
    "plot_distr(data_best_test)"
   ]
  },
  {
   "cell_type": "code",
   "execution_count": 82,
   "metadata": {},
   "outputs": [],
   "source": [
    "need_columns = ['dataset', 'metrics', 'fitted_operation', 'score_train', 'score_test', 'time_spent']\n",
    "opt_comparison = data_safe[data_safe['approach'] == 'random'][need_columns].merge(data_safe[data_safe['approach'] == 'tpe'][need_columns],\n",
    "                                                                                  on=['dataset', 'metrics', 'fitted_operation'],\n",
    "                                                                                  suffixes=('_random', '_tpe')).merge(data_safe[data_safe['approach'] == 'default'][need_columns],\n",
    "                                                                                                                      on=['dataset', 'metrics', 'fitted_operation'])"
   ]
  },
  {
   "cell_type": "code",
   "execution_count": 45,
   "metadata": {},
   "outputs": [],
   "source": [
    "opt_comparison['train_diff_random'] = np.where(np.isin(opt_comparison['metrics'], ['mse', 'mae']),\n",
    "                                               (opt_comparison['score_train'] - opt_comparison['score_train_random']) / np.maximum(opt_comparison['score_train_random'], opt_comparison['score_train']),\n",
    "                                               (opt_comparison['score_train_random'] - opt_comparison['score_train']) / np.maximum(opt_comparison['score_train_random'], opt_comparison['score_train']))\n",
    "opt_comparison['train_diff_tpe'] = np.where(np.isin(opt_comparison['metrics'], ['mse', 'mae']),\n",
    "                                            (opt_comparison['score_train'] - opt_comparison['score_train_tpe']) / np.maximum(opt_comparison['score_train_tpe'], opt_comparison['score_train']),\n",
    "                                            (opt_comparison['score_train_tpe'] - opt_comparison['score_train']) / np.maximum(opt_comparison['score_train_tpe'], opt_comparison['score_train']))\n",
    "opt_comparison['test_diff_random'] = np.where(np.isin(opt_comparison['metrics'], ['mse', 'mae']),\n",
    "                                              (opt_comparison['score_test'] - opt_comparison['score_test_random']) / np.maximum(opt_comparison['score_test_random'], opt_comparison['score_test']),\n",
    "                                              (opt_comparison['score_test_random'] - opt_comparison['score_test']) / np.maximum(opt_comparison['score_test_random'], opt_comparison['score_test']))\n",
    "opt_comparison['test_diff_tpe'] = np.where(np.isin(opt_comparison['metrics'], ['mse', 'mae']),\n",
    "                                           (opt_comparison['score_test'] - opt_comparison['score_test_tpe']) / np.maximum(opt_comparison['score_test_tpe'], opt_comparison['score_test']),\n",
    "                                           (opt_comparison['score_test_tpe'] - opt_comparison['score_test']) / np.maximum(opt_comparison['score_test_tpe'], opt_comparison['score_test']))"
   ]
  },
  {
   "cell_type": "code",
   "execution_count": 51,
   "metadata": {},
   "outputs": [
    {
     "data": {
      "text/html": [
       "<div>\n",
       "<style scoped>\n",
       "    .dataframe tbody tr th:only-of-type {\n",
       "        vertical-align: middle;\n",
       "    }\n",
       "\n",
       "    .dataframe tbody tr th {\n",
       "        vertical-align: top;\n",
       "    }\n",
       "\n",
       "    .dataframe thead th {\n",
       "        text-align: right;\n",
       "    }\n",
       "</style>\n",
       "<table border=\"1\" class=\"dataframe\">\n",
       "  <thead>\n",
       "    <tr style=\"text-align: right;\">\n",
       "      <th></th>\n",
       "      <th>dataset</th>\n",
       "      <th>metrics</th>\n",
       "      <th>fitted_operation</th>\n",
       "      <th>score_train_random</th>\n",
       "      <th>score_test_random</th>\n",
       "      <th>time_spent_random</th>\n",
       "      <th>score_train_tpe</th>\n",
       "      <th>score_test_tpe</th>\n",
       "      <th>time_spent_tpe</th>\n",
       "      <th>score_train</th>\n",
       "      <th>score_test</th>\n",
       "      <th>time_spent</th>\n",
       "      <th>train_diff_random</th>\n",
       "      <th>train_diff_tpe</th>\n",
       "      <th>test_diff_random</th>\n",
       "      <th>test_diff_tpe</th>\n",
       "    </tr>\n",
       "  </thead>\n",
       "  <tbody>\n",
       "    <tr>\n",
       "      <th>1064</th>\n",
       "      <td>house-sales</td>\n",
       "      <td>r2</td>\n",
       "      <td>knnreg</td>\n",
       "      <td>0.011259</td>\n",
       "      <td>-0.009579</td>\n",
       "      <td>1515.798512</td>\n",
       "      <td>0.011168</td>\n",
       "      <td>-0.009538</td>\n",
       "      <td>1895.491813</td>\n",
       "      <td>0.201583</td>\n",
       "      <td>-0.197613</td>\n",
       "      <td>9.329742</td>\n",
       "      <td>-0.944145</td>\n",
       "      <td>-0.944596</td>\n",
       "      <td>-19.630321</td>\n",
       "      <td>-19.718391</td>\n",
       "    </tr>\n",
       "    <tr>\n",
       "      <th>1410</th>\n",
       "      <td>brazilian-houses</td>\n",
       "      <td>r2</td>\n",
       "      <td>lgbmreg</td>\n",
       "      <td>0.907400</td>\n",
       "      <td>-1.841148</td>\n",
       "      <td>317.460871</td>\n",
       "      <td>0.694033</td>\n",
       "      <td>-8.749512</td>\n",
       "      <td>243.009204</td>\n",
       "      <td>0.220372</td>\n",
       "      <td>0.659656</td>\n",
       "      <td>1.101465</td>\n",
       "      <td>0.757139</td>\n",
       "      <td>0.682476</td>\n",
       "      <td>-3.791074</td>\n",
       "      <td>-14.263753</td>\n",
       "    </tr>\n",
       "    <tr>\n",
       "      <th>1405</th>\n",
       "      <td>brazilian-houses</td>\n",
       "      <td>r2</td>\n",
       "      <td>lgbmreg</td>\n",
       "      <td>0.627471</td>\n",
       "      <td>-3.597057</td>\n",
       "      <td>342.388761</td>\n",
       "      <td>0.694033</td>\n",
       "      <td>-8.749512</td>\n",
       "      <td>243.009204</td>\n",
       "      <td>0.220372</td>\n",
       "      <td>0.659656</td>\n",
       "      <td>1.478629</td>\n",
       "      <td>0.648793</td>\n",
       "      <td>0.682476</td>\n",
       "      <td>-6.452930</td>\n",
       "      <td>-14.263753</td>\n",
       "    </tr>\n",
       "    <tr>\n",
       "      <th>1406</th>\n",
       "      <td>brazilian-houses</td>\n",
       "      <td>r2</td>\n",
       "      <td>lgbmreg</td>\n",
       "      <td>0.627471</td>\n",
       "      <td>-3.597057</td>\n",
       "      <td>342.388761</td>\n",
       "      <td>0.694033</td>\n",
       "      <td>-8.749512</td>\n",
       "      <td>243.009204</td>\n",
       "      <td>0.220372</td>\n",
       "      <td>0.659656</td>\n",
       "      <td>1.101465</td>\n",
       "      <td>0.648793</td>\n",
       "      <td>0.682476</td>\n",
       "      <td>-6.452930</td>\n",
       "      <td>-14.263753</td>\n",
       "    </tr>\n",
       "    <tr>\n",
       "      <th>1409</th>\n",
       "      <td>brazilian-houses</td>\n",
       "      <td>r2</td>\n",
       "      <td>lgbmreg</td>\n",
       "      <td>0.907400</td>\n",
       "      <td>-1.841148</td>\n",
       "      <td>317.460871</td>\n",
       "      <td>0.694033</td>\n",
       "      <td>-8.749512</td>\n",
       "      <td>243.009204</td>\n",
       "      <td>0.220372</td>\n",
       "      <td>0.659656</td>\n",
       "      <td>1.478629</td>\n",
       "      <td>0.757139</td>\n",
       "      <td>0.682476</td>\n",
       "      <td>-3.791074</td>\n",
       "      <td>-14.263753</td>\n",
       "    </tr>\n",
       "    <tr>\n",
       "      <th>...</th>\n",
       "      <td>...</td>\n",
       "      <td>...</td>\n",
       "      <td>...</td>\n",
       "      <td>...</td>\n",
       "      <td>...</td>\n",
       "      <td>...</td>\n",
       "      <td>...</td>\n",
       "      <td>...</td>\n",
       "      <td>...</td>\n",
       "      <td>...</td>\n",
       "      <td>...</td>\n",
       "      <td>...</td>\n",
       "      <td>...</td>\n",
       "      <td>...</td>\n",
       "      <td>...</td>\n",
       "      <td>...</td>\n",
       "    </tr>\n",
       "    <tr>\n",
       "      <th>1032</th>\n",
       "      <td>house-sales</td>\n",
       "      <td>r2</td>\n",
       "      <td>rfr</td>\n",
       "      <td>0.021567</td>\n",
       "      <td>0.016104</td>\n",
       "      <td>1905.437665</td>\n",
       "      <td>0.022881</td>\n",
       "      <td>0.015741</td>\n",
       "      <td>1954.885063</td>\n",
       "      <td>0.855257</td>\n",
       "      <td>-0.025740</td>\n",
       "      <td>30.701229</td>\n",
       "      <td>-0.974783</td>\n",
       "      <td>-0.973247</td>\n",
       "      <td>2.598322</td>\n",
       "      <td>2.635168</td>\n",
       "    </tr>\n",
       "    <tr>\n",
       "      <th>152</th>\n",
       "      <td>house-sales</td>\n",
       "      <td>r2</td>\n",
       "      <td>dtreg</td>\n",
       "      <td>0.016762</td>\n",
       "      <td>0.013466</td>\n",
       "      <td>880.836985</td>\n",
       "      <td>0.016762</td>\n",
       "      <td>0.013466</td>\n",
       "      <td>407.304170</td>\n",
       "      <td>0.999848</td>\n",
       "      <td>-1.028149</td>\n",
       "      <td>3.940724</td>\n",
       "      <td>-0.983235</td>\n",
       "      <td>-0.983235</td>\n",
       "      <td>77.349029</td>\n",
       "      <td>77.349029</td>\n",
       "    </tr>\n",
       "    <tr>\n",
       "      <th>154</th>\n",
       "      <td>house-sales</td>\n",
       "      <td>r2</td>\n",
       "      <td>dtreg</td>\n",
       "      <td>0.017302</td>\n",
       "      <td>0.010978</td>\n",
       "      <td>1821.572227</td>\n",
       "      <td>0.016762</td>\n",
       "      <td>0.013466</td>\n",
       "      <td>407.304170</td>\n",
       "      <td>0.999848</td>\n",
       "      <td>-1.028149</td>\n",
       "      <td>3.940724</td>\n",
       "      <td>-0.982695</td>\n",
       "      <td>-0.983235</td>\n",
       "      <td>94.654662</td>\n",
       "      <td>77.349029</td>\n",
       "    </tr>\n",
       "    <tr>\n",
       "      <th>153</th>\n",
       "      <td>house-sales</td>\n",
       "      <td>r2</td>\n",
       "      <td>dtreg</td>\n",
       "      <td>0.016762</td>\n",
       "      <td>0.013466</td>\n",
       "      <td>880.836985</td>\n",
       "      <td>0.016762</td>\n",
       "      <td>0.013466</td>\n",
       "      <td>407.304170</td>\n",
       "      <td>0.999848</td>\n",
       "      <td>-1.048788</td>\n",
       "      <td>4.138284</td>\n",
       "      <td>-0.983235</td>\n",
       "      <td>-0.983235</td>\n",
       "      <td>78.881673</td>\n",
       "      <td>78.881673</td>\n",
       "    </tr>\n",
       "    <tr>\n",
       "      <th>155</th>\n",
       "      <td>house-sales</td>\n",
       "      <td>r2</td>\n",
       "      <td>dtreg</td>\n",
       "      <td>0.017302</td>\n",
       "      <td>0.010978</td>\n",
       "      <td>1821.572227</td>\n",
       "      <td>0.016762</td>\n",
       "      <td>0.013466</td>\n",
       "      <td>407.304170</td>\n",
       "      <td>0.999848</td>\n",
       "      <td>-1.048788</td>\n",
       "      <td>4.138284</td>\n",
       "      <td>-0.982695</td>\n",
       "      <td>-0.983235</td>\n",
       "      <td>96.534702</td>\n",
       "      <td>78.881673</td>\n",
       "    </tr>\n",
       "  </tbody>\n",
       "</table>\n",
       "<p>1175 rows × 16 columns</p>\n",
       "</div>"
      ],
      "text/plain": [
       "               dataset metrics fitted_operation  score_train_random  \\\n",
       "1064       house-sales      r2           knnreg            0.011259   \n",
       "1410  brazilian-houses      r2          lgbmreg            0.907400   \n",
       "1405  brazilian-houses      r2          lgbmreg            0.627471   \n",
       "1406  brazilian-houses      r2          lgbmreg            0.627471   \n",
       "1409  brazilian-houses      r2          lgbmreg            0.907400   \n",
       "...                ...     ...              ...                 ...   \n",
       "1032       house-sales      r2              rfr            0.021567   \n",
       "152        house-sales      r2            dtreg            0.016762   \n",
       "154        house-sales      r2            dtreg            0.017302   \n",
       "153        house-sales      r2            dtreg            0.016762   \n",
       "155        house-sales      r2            dtreg            0.017302   \n",
       "\n",
       "      score_test_random  time_spent_random  score_train_tpe  score_test_tpe  \\\n",
       "1064          -0.009579        1515.798512         0.011168       -0.009538   \n",
       "1410          -1.841148         317.460871         0.694033       -8.749512   \n",
       "1405          -3.597057         342.388761         0.694033       -8.749512   \n",
       "1406          -3.597057         342.388761         0.694033       -8.749512   \n",
       "1409          -1.841148         317.460871         0.694033       -8.749512   \n",
       "...                 ...                ...              ...             ...   \n",
       "1032           0.016104        1905.437665         0.022881        0.015741   \n",
       "152            0.013466         880.836985         0.016762        0.013466   \n",
       "154            0.010978        1821.572227         0.016762        0.013466   \n",
       "153            0.013466         880.836985         0.016762        0.013466   \n",
       "155            0.010978        1821.572227         0.016762        0.013466   \n",
       "\n",
       "      time_spent_tpe  score_train  score_test  time_spent  train_diff_random  \\\n",
       "1064     1895.491813     0.201583   -0.197613    9.329742          -0.944145   \n",
       "1410      243.009204     0.220372    0.659656    1.101465           0.757139   \n",
       "1405      243.009204     0.220372    0.659656    1.478629           0.648793   \n",
       "1406      243.009204     0.220372    0.659656    1.101465           0.648793   \n",
       "1409      243.009204     0.220372    0.659656    1.478629           0.757139   \n",
       "...              ...          ...         ...         ...                ...   \n",
       "1032     1954.885063     0.855257   -0.025740   30.701229          -0.974783   \n",
       "152       407.304170     0.999848   -1.028149    3.940724          -0.983235   \n",
       "154       407.304170     0.999848   -1.028149    3.940724          -0.982695   \n",
       "153       407.304170     0.999848   -1.048788    4.138284          -0.983235   \n",
       "155       407.304170     0.999848   -1.048788    4.138284          -0.982695   \n",
       "\n",
       "      train_diff_tpe  test_diff_random  test_diff_tpe  \n",
       "1064       -0.944596        -19.630321     -19.718391  \n",
       "1410        0.682476         -3.791074     -14.263753  \n",
       "1405        0.682476         -6.452930     -14.263753  \n",
       "1406        0.682476         -6.452930     -14.263753  \n",
       "1409        0.682476         -3.791074     -14.263753  \n",
       "...              ...               ...            ...  \n",
       "1032       -0.973247          2.598322       2.635168  \n",
       "152        -0.983235         77.349029      77.349029  \n",
       "154        -0.983235         94.654662      77.349029  \n",
       "153        -0.983235         78.881673      78.881673  \n",
       "155        -0.983235         96.534702      78.881673  \n",
       "\n",
       "[1175 rows x 16 columns]"
      ]
     },
     "execution_count": 51,
     "metadata": {},
     "output_type": "execute_result"
    }
   ],
   "source": [
    "opt_comparison.sort_values('test_diff_tpe').dropna()"
   ]
  },
  {
   "cell_type": "code",
   "execution_count": 52,
   "metadata": {},
   "outputs": [],
   "source": [
    "opt_comparison = opt_comparison[(opt_comparison['test_diff_tpe'] < 1) & (opt_comparison['test_diff_tpe'] > -1)]\n",
    "opt_comparison = opt_comparison[(opt_comparison['train_diff_tpe'] < 1) & (opt_comparison['train_diff_tpe'] > -1)]\n",
    "opt_comparison = opt_comparison[(opt_comparison['test_diff_random'] < 1) & (opt_comparison['test_diff_random'] > -1)]\n",
    "opt_comparison = opt_comparison[(opt_comparison['test_diff_random'] < 1) & (opt_comparison['test_diff_random'] > -1)]"
   ]
  },
  {
   "cell_type": "code",
   "execution_count": 60,
   "metadata": {},
   "outputs": [
    {
     "name": "stdout",
     "output_type": "stream",
     "text": [
      "-0.03095963466486615\n"
     ]
    },
    {
     "data": {
      "image/png": "[encoded data removed]",
      "text/plain": [
       "<Figure size 432x288 with 1 Axes>"
      ]
     },
     "metadata": {
      "needs_background": "light"
     },
     "output_type": "display_data"
    }
   ],
   "source": [
    "diff_ = opt_comparison['train_diff_tpe'] #- opt_comparison['train_diff_random']\n",
    "print(np.mean(diff_))\n",
    "sns.distplot(diff_.dropna())\n",
    "plt.show()"
   ]
  },
  {
   "cell_type": "code",
   "execution_count": 61,
   "metadata": {},
   "outputs": [
    {
     "name": "stdout",
     "output_type": "stream",
     "text": [
      "0.007126585325579643\n"
     ]
    },
    {
     "data": {
      "image/png": "[encoded data removed]",
      "text/plain": [
       "<Figure size 432x288 with 1 Axes>"
      ]
     },
     "metadata": {
      "needs_background": "light"
     },
     "output_type": "display_data"
    }
   ],
   "source": [
    "diff_ = opt_comparison['test_diff_tpe'] #- opt_comparison['test_diff_random']\n",
    "print(np.mean(diff_))\n",
    "sns.distplot(diff_.dropna())\n",
    "plt.show()"
   ]
  },
  {
   "cell_type": "code",
   "execution_count": null,
   "metadata": {},
   "outputs": [],
   "source": []
  },
  {
   "cell_type": "code",
   "execution_count": 79,
   "metadata": {},
   "outputs": [
    {
     "data": {
      "text/plain": [
       "max_bin\n",
       "15.0     2\n",
       "17.0     1\n",
       "21.0     1\n",
       "35.0     1\n",
       "42.0     1\n",
       "        ..\n",
       "497.0    1\n",
       "498.0    1\n",
       "501.0    1\n",
       "505.0    2\n",
       "508.0    1\n",
       "Name: dataset, Length: 170, dtype: int64"
      ]
     },
     "execution_count": 79,
     "metadata": {},
     "output_type": "execute_result"
    }
   ],
   "source": [
    "data.groupby(['max_bin']).count()['dataset']"
   ]
  }
 ],
 "metadata": {
  "kernelspec": {
   "display_name": "Python 3 (ipykernel)",
   "language": "python",
   "name": "python3"
  },
  "language_info": {
   "codemirror_mode": {
    "name": "ipython",
    "version": 3
   },
   "file_extension": ".py",
   "mimetype": "text/x-python",
   "name": "python",
   "nbconvert_exporter": "python",
   "pygments_lexer": "ipython3",
   "version": "3.8.8"
  }
 },
 "nbformat": 4,
 "nbformat_minor": 1
}